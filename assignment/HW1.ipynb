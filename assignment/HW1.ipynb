{
  "nbformat": 4,
  "nbformat_minor": 0,
  "metadata": {
    "colab": {
      "name": "HW1_20193011_유승희.ipynb",
      "provenance": [],
      "collapsed_sections": [],
      "include_colab_link": true
    },
    "kernelspec": {
      "name": "python3",
      "display_name": "Python 3"
    },
    "language_info": {
      "name": "python"
    },
    "accelerator": "GPU"
  },
  "cells": [
    {
      "cell_type": "markdown",
      "metadata": {
        "id": "view-in-github",
        "colab_type": "text"
      },
      "source": [
        "<a href=\"https://colab.research.google.com/github/JuneSHYoo/AI_DeepLearning/blob/main/HW1.ipynb\" target=\"_parent\"><img src=\"https://colab.research.google.com/assets/colab-badge.svg\" alt=\"Open In Colab\"/></a>"
      ]
    },
    {
      "cell_type": "markdown",
      "source": [
        "## HW 1 \n",
        "Answer folloing questions using tensorflow's gradient tape.  \n",
        "\n",
        "EX)\n",
        "```\n",
        "input_var = tf.Variable(initial_value=3.)\n",
        "with tf.GradientTape() as tape:\n",
        "   result = tf.square(input_var)\n",
        "gradient = tape.gradient(result, input_var)\n",
        "```\n",
        "\n",
        "### Q1 Differentiate $y = x^2 + 3x + 1$ with respect to a scalar variable $x$."
      ],
      "metadata": {
        "id": "OwBySVVU5h6M"
      }
    },
    {
      "cell_type": "code",
      "source": [
        "import tensorflow as tf\n",
        "import numpy"
      ],
      "metadata": {
        "id": "xA2-v0BmTq_j"
      },
      "execution_count": 1,
      "outputs": []
    },
    {
      "cell_type": "code",
      "source": [
        "x = tf.Variable(0.)\n",
        "with tf.GradientTape() as tape:\n",
        "  y = x**2 + 3*x + 1\n",
        "dy_dx = tape.gradient(y,x)"
      ],
      "metadata": {
        "id": "b8LK-gfkTfgF"
      },
      "execution_count": 2,
      "outputs": []
    },
    {
      "cell_type": "code",
      "source": [
        "dy_dx.numpy()"
      ],
      "metadata": {
        "colab": {
          "base_uri": "https://localhost:8080/"
        },
        "id": "3tEJAYqFYOqp",
        "outputId": "69696cad-7987-406f-b0c0-1fb5676c559f"
      },
      "execution_count": 3,
      "outputs": [
        {
          "output_type": "execute_result",
          "data": {
            "text/plain": [
              "3.0"
            ]
          },
          "metadata": {},
          "execution_count": 3
        }
      ]
    },
    {
      "cell_type": "markdown",
      "source": [
        "### Q2 Differentiate $y = X^3 + 3X + 5$ with respect to a 2 by 2 matrix variable $X$."
      ],
      "metadata": {
        "id": "qEqK8L1k6PSd"
      }
    },
    {
      "cell_type": "code",
      "source": [
        "X = tf.Variable(tf.random.uniform([2,2]))\n",
        "with tf.GradientTape() as tape:\n",
        "  y = X**3 + 3*X + 5\n",
        "dy_dX = tape.gradient(y,X)"
      ],
      "metadata": {
        "id": "WKvVq8pQ6YNt"
      },
      "execution_count": 4,
      "outputs": []
    },
    {
      "cell_type": "code",
      "source": [
        "dy_dX"
      ],
      "metadata": {
        "colab": {
          "base_uri": "https://localhost:8080/"
        },
        "id": "9DP1CWxGVshg",
        "outputId": "3d4ff8f1-7900-417d-de94-8175b17b7499"
      },
      "execution_count": 5,
      "outputs": [
        {
          "output_type": "execute_result",
          "data": {
            "text/plain": [
              "<tf.Tensor: shape=(2, 2), dtype=float32, numpy=\n",
              "array([[4.0763164, 3.3403814],\n",
              "       [3.324098 , 3.087906 ]], dtype=float32)>"
            ]
          },
          "metadata": {},
          "execution_count": 5
        }
      ]
    },
    {
      "cell_type": "code",
      "source": [
        "print('shape of X :', X.shape)\n",
        "print('shape of dy_dX :', dy_dX.shape)"
      ],
      "metadata": {
        "colab": {
          "base_uri": "https://localhost:8080/"
        },
        "id": "kEpaanIXXfS6",
        "outputId": "02c6a278-1ab1-4073-91fa-dd4efff28ccb"
      },
      "execution_count": 6,
      "outputs": [
        {
          "output_type": "stream",
          "name": "stdout",
          "text": [
            "shape of X : (2, 2)\n",
            "shape of dy_dX : (2, 2)\n"
          ]
        }
      ]
    },
    {
      "cell_type": "markdown",
      "source": [
        "### Q3 Differentiate $z = X^3 y^2 + 3X + 2xy + 1$ with respect to a 2 by 2 matrix variable $X$ and a scalar variable $y$."
      ],
      "metadata": {
        "id": "AFsXMZmW6e6F"
      }
    },
    {
      "cell_type": "code",
      "source": [
        "y = tf.Variable(1.)\n",
        "X = tf.Variable(tf.random.uniform([2,2]))\n",
        "with tf.GradientTape() as tape:\n",
        "  z = X**3 * y**2 + 3*X + 2*X*y + 1\n",
        "dz_dX_and_dy = tape.gradient(z ,[X,y])"
      ],
      "metadata": {
        "id": "mXXKBxo36kPl"
      },
      "execution_count": 7,
      "outputs": []
    },
    {
      "cell_type": "code",
      "source": [
        "# result\n",
        "print(\"dz_dX :\" ,dz_dX_and_dy[0])\n",
        "print(\"dz_dy :\" ,dz_dX_and_dy[1].numpy())"
      ],
      "metadata": {
        "colab": {
          "base_uri": "https://localhost:8080/"
        },
        "id": "oF1kaTIdYBwm",
        "outputId": "28120e13-47fb-45fc-a3c8-d5aa903da280"
      },
      "execution_count": 16,
      "outputs": [
        {
          "output_type": "stream",
          "name": "stdout",
          "text": [
            "dz_dX : tf.Tensor(\n",
            "[[5.228007  5.01523  ]\n",
            " [5.0917144 5.9727845]], shape=(2, 2), dtype=float32)\n",
            "dz_dy : 2.60506\n"
          ]
        }
      ]
    }
  ]
}
