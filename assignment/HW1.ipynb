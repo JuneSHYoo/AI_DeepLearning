{
  "nbformat": 4,
  "nbformat_minor": 0,
  "metadata": {
    "colab": {
      "name": "HW1.ipynb",
      "provenance": [],
      "collapsed_sections": [],
      "include_colab_link": true
    },
    "kernelspec": {
      "name": "python3",
      "display_name": "Python 3"
    },
    "language_info": {
      "name": "python"
    },
    "accelerator": "GPU"
  },
  "cells": [
    {
      "cell_type": "markdown",
      "metadata": {
        "id": "view-in-github",
        "colab_type": "text"
      },
      "source": [
        "<a href=\"https://colab.research.google.com/github/JuneSHYoo/AI_DeepLearning/blob/main/HW1.ipynb\" target=\"_parent\"><img src=\"https://colab.research.google.com/assets/colab-badge.svg\" alt=\"Open In Colab\"/></a>"
      ]
    },
    {
      "cell_type": "markdown",
      "source": [
        "## HW 1 \n",
        "Answer folloing questions using tensorflow's gradient tape.  \n",
        "\n",
        "EX)\n",
        "```\n",
        "input_var = tf.Variable(initial_value=3.)\n",
        "with tf.GradientTape() as tape:\n",
        "   result = tf.square(input_var)\n",
        "gradient = tape.gradient(result, input_var)\n",
        "```\n",
        "\n",
        "### Q1 Differentiate $y = x^2 + 3x + 1$ with respect to a scalar variable $x$."
      ],
      "metadata": {
        "id": "OwBySVVU5h6M"
      }
    },
    {
      "cell_type": "code",
      "source": [
        "import tensorflow as tf\n",
        "import numpy"
      ],
      "metadata": {
        "id": "xA2-v0BmTq_j"
      },
      "execution_count": 28,
      "outputs": []
    },
    {
      "cell_type": "code",
      "source": [
        "x = tf.Variable(0.)\n",
        "with tf.GradientTape() as tape:\n",
        "  y = x**2 + 3*x + 1\n",
        "dy_dx = tape.gradient(y,x)"
      ],
      "metadata": {
        "id": "b8LK-gfkTfgF"
      },
      "execution_count": 44,
      "outputs": []
    },
    {
      "cell_type": "code",
      "source": [
        "dy_dx.numpy()"
      ],
      "metadata": {
        "id": "3tEJAYqFYOqp",
        "outputId": "923913fc-4ca5-431c-f4b0-36ebe87655d0",
        "colab": {
          "base_uri": "https://localhost:8080/"
        }
      },
      "execution_count": 46,
      "outputs": [
        {
          "output_type": "execute_result",
          "data": {
            "text/plain": [
              "3.0"
            ]
          },
          "metadata": {},
          "execution_count": 46
        }
      ]
    },
    {
      "cell_type": "markdown",
      "source": [
        "### Q2 Differentiate $y = X^3 + 3X + 5$ with respect to a 2 by 2 matrix variable $X$."
      ],
      "metadata": {
        "id": "qEqK8L1k6PSd"
      }
    },
    {
      "cell_type": "code",
      "source": [
        "X = tf.Variable(tf.random.uniform([2,2]))\n",
        "with tf.GradientTape() as tape:\n",
        "  y = X**3 + 3*X + 5\n",
        "dy_dX = tape.gradient(y,X)"
      ],
      "metadata": {
        "id": "WKvVq8pQ6YNt"
      },
      "execution_count": 38,
      "outputs": []
    },
    {
      "cell_type": "code",
      "source": [
        "dy_dX"
      ],
      "metadata": {
        "id": "9DP1CWxGVshg",
        "outputId": "5c240c40-924a-459e-f970-015e0d3ff61e",
        "colab": {
          "base_uri": "https://localhost:8080/"
        }
      },
      "execution_count": 43,
      "outputs": [
        {
          "output_type": "execute_result",
          "data": {
            "text/plain": [
              "<tf.Tensor: shape=(2, 2), dtype=float32, numpy=\n",
              "array([[4.621337 , 5.4878387],\n",
              "       [3.386354 , 5.814765 ]], dtype=float32)>"
            ]
          },
          "metadata": {},
          "execution_count": 43
        }
      ]
    },
    {
      "cell_type": "code",
      "source": [
        "print('shape of X :', X.shape)\n",
        "print('shape of dy_dX :', dy_dX.shape)"
      ],
      "metadata": {
        "id": "kEpaanIXXfS6",
        "outputId": "831af2b7-1d3b-4f9c-cd58-0a64d42b4050",
        "colab": {
          "base_uri": "https://localhost:8080/"
        }
      },
      "execution_count": 48,
      "outputs": [
        {
          "output_type": "stream",
          "name": "stdout",
          "text": [
            "shape of X : (2, 2)\n",
            "shape of dy_dX : (2, 2)\n"
          ]
        }
      ]
    },
    {
      "cell_type": "markdown",
      "source": [
        "### Q3 Differentiate $z = X^3 y^2 + 3X + 2xy + 1$ with respect to a 2 by 2 matrix variable $X$ and a scalar variable $y$."
      ],
      "metadata": {
        "id": "AFsXMZmW6e6F"
      }
    },
    {
      "cell_type": "code",
      "source": [
        "y = tf.Variable(1.)\n",
        "X = tf.Variable(tf.random.uniform([2,2]))\n",
        "with tf.GradientTape() as tape:\n",
        "  z = X**3 * y**2 + 3*X + 2*X*y + 1\n",
        "dz_dX_and_dy = tape.gradient(z ,[X,y])"
      ],
      "metadata": {
        "id": "mXXKBxo36kPl"
      },
      "execution_count": 51,
      "outputs": []
    },
    {
      "cell_type": "code",
      "source": [
        "dz_dX_and_dy"
      ],
      "metadata": {
        "id": "oF1kaTIdYBwm",
        "outputId": "ca1a8f25-7896-47f6-dde5-882a8777fe24",
        "colab": {
          "base_uri": "https://localhost:8080/"
        }
      },
      "execution_count": 52,
      "outputs": [
        {
          "output_type": "execute_result",
          "data": {
            "text/plain": [
              "[<tf.Tensor: shape=(2, 2), dtype=float32, numpy=\n",
              " array([[7.242101 , 6.835408 ],\n",
              "        [6.6884866, 6.4339075]], dtype=float32)>,\n",
              " <tf.Tensor: shape=(), dtype=float32, numpy=9.931171>]"
            ]
          },
          "metadata": {},
          "execution_count": 52
        }
      ]
    }
  ]
}
