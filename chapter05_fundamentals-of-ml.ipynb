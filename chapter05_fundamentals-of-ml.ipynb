{
  "cells": [
    {
      "cell_type": "markdown",
      "metadata": {
        "id": "daN048zZhHXj"
      },
      "source": [
        "This is a companion notebook for the book [Deep Learning with Python, Second Edition](https://www.manning.com/books/deep-learning-with-python-second-edition?a_aid=keras&a_bid=76564dff). For readability, it only contains runnable code blocks and section titles, and omits everything else in the book: text paragraphs, figures, and pseudocode.\n",
        "\n",
        "**If you want to be able to follow what's going on, I recommend reading the notebook side by side with your copy of the book.**\n",
        "\n",
        "This notebook was generated for TensorFlow 2.6."
      ]
    },
    {
      "cell_type": "markdown",
      "metadata": {
        "id": "hoErG95VhHXo"
      },
      "source": [
        "# Fundamentals of machine learning"
      ]
    },
    {
      "cell_type": "markdown",
      "metadata": {
        "id": "HYXfTSAmhHXp"
      },
      "source": [
        "## Generalization: The goal of machine learning"
      ]
    },
    {
      "cell_type": "markdown",
      "metadata": {
        "id": "s-S-0pWshHXq"
      },
      "source": [
        "### Underfitting and overfitting"
      ]
    },
    {
      "cell_type": "markdown",
      "metadata": {
        "id": "lWtYQr1qhHXr"
      },
      "source": [
        "#### Noisy training data"
      ]
    },
    {
      "cell_type": "markdown",
      "metadata": {
        "id": "Uks_Gia1hHXs"
      },
      "source": [
        "#### Ambiguous features"
      ]
    },
    {
      "cell_type": "markdown",
      "metadata": {
        "id": "wlLF4vZ9hHXs"
      },
      "source": [
        "#### Rare features and spurious correlations"
      ]
    },
    {
      "cell_type": "markdown",
      "metadata": {
        "id": "hPugv-cvhHXt"
      },
      "source": [
        "**Adding white-noise channels or all-zeros channels to MNIST**"
      ]
    },
    {
      "cell_type": "code",
      "source": [
        "from tensorflow.keras.datasets import mnist\n",
        "import numpy as np"
      ],
      "metadata": {
        "id": "y3-rA5xGiVYO"
      },
      "execution_count": 2,
      "outputs": []
    },
    {
      "cell_type": "code",
      "execution_count": 18,
      "metadata": {
        "id": "vnQH0uD8hHXv"
      },
      "outputs": [],
      "source": [
        "from tensorflow.keras.datasets import mnist\n",
        "import numpy as np\n",
        "\n",
        "(train_images, train_labels), _ = mnist.load_data()\n",
        "train_images = train_images.reshape((60000, 28 * 28))\n",
        "train_images = train_images.astype(\"float32\") / 255\n",
        "\n",
        "train_images_with_noise_channels = np.concatenate(\n",
        "    [train_images, np.random.random((len(train_images), 784))], axis=1)\n",
        "\n",
        "train_images_with_zeros_channels = np.concatenate(\n",
        "    [train_images, np.zeros((len(train_images), 784))], axis=1)"
      ]
    },
    {
      "cell_type": "code",
      "source": [
        "train_images.shape"
      ],
      "metadata": {
        "id": "AJiEWgbVmVwW",
        "outputId": "d9bb9af9-2c2a-4bef-b2ba-8dba361efb92",
        "colab": {
          "base_uri": "https://localhost:8080/"
        }
      },
      "execution_count": 2,
      "outputs": [
        {
          "output_type": "execute_result",
          "data": {
            "text/plain": [
              "(60000, 784)"
            ]
          },
          "metadata": {},
          "execution_count": 2
        }
      ]
    },
    {
      "cell_type": "code",
      "source": [
        "train_images_with_noise_channels.shape"
      ],
      "metadata": {
        "id": "crkhQsc2mgFx",
        "outputId": "f7705669-3ed4-4d5e-fb37-7696ca3ee6a9",
        "colab": {
          "base_uri": "https://localhost:8080/"
        }
      },
      "execution_count": 3,
      "outputs": [
        {
          "output_type": "execute_result",
          "data": {
            "text/plain": [
              "(60000, 1568)"
            ]
          },
          "metadata": {},
          "execution_count": 3
        }
      ]
    },
    {
      "cell_type": "code",
      "source": [
        "train_images_with_zeros_channels.shape"
      ],
      "metadata": {
        "id": "TFCiDYIbmq0F",
        "outputId": "f0d935e0-67c5-42c5-856f-be511786a47e",
        "colab": {
          "base_uri": "https://localhost:8080/"
        }
      },
      "execution_count": 4,
      "outputs": [
        {
          "output_type": "execute_result",
          "data": {
            "text/plain": [
              "(60000, 1568)"
            ]
          },
          "metadata": {},
          "execution_count": 4
        }
      ]
    },
    {
      "cell_type": "markdown",
      "metadata": {
        "id": "83Me_6QEhHXx"
      },
      "source": [
        "**Training the same model on MNIST data with noise channels or all-zero channels**"
      ]
    },
    {
      "cell_type": "code",
      "source": [
        "from tensorflow import keras\n",
        "from tensorflow.keras import layers"
      ],
      "metadata": {
        "id": "UV4jeIiViZOV"
      },
      "execution_count": 3,
      "outputs": []
    },
    {
      "cell_type": "code",
      "execution_count": 13,
      "metadata": {
        "id": "a3673q4ghHXy",
        "outputId": "b65bf1af-2b28-4e0f-d91f-c07715bbe374",
        "colab": {
          "base_uri": "https://localhost:8080/"
        }
      },
      "outputs": [
        {
          "output_type": "stream",
          "name": "stdout",
          "text": [
            "Epoch 1/10\n",
            "375/375 [==============================] - 3s 6ms/step - loss: 2.3742 - accuracy: 0.1024 - val_loss: 2.3041 - val_accuracy: 0.1033\n",
            "Epoch 2/10\n",
            "375/375 [==============================] - 2s 5ms/step - loss: 2.3042 - accuracy: 0.1076 - val_loss: 2.3030 - val_accuracy: 0.1133\n",
            "Epoch 3/10\n",
            "375/375 [==============================] - 2s 5ms/step - loss: 2.3025 - accuracy: 0.1122 - val_loss: 2.3012 - val_accuracy: 0.1100\n",
            "Epoch 4/10\n",
            "375/375 [==============================] - 2s 5ms/step - loss: 2.3021 - accuracy: 0.1109 - val_loss: 2.3007 - val_accuracy: 0.1128\n",
            "Epoch 5/10\n",
            "375/375 [==============================] - 2s 5ms/step - loss: 2.3014 - accuracy: 0.1120 - val_loss: 2.3025 - val_accuracy: 0.1109\n",
            "Epoch 6/10\n",
            "375/375 [==============================] - 2s 5ms/step - loss: 2.3012 - accuracy: 0.1123 - val_loss: 2.3016 - val_accuracy: 0.1129\n",
            "Epoch 7/10\n",
            "375/375 [==============================] - 2s 5ms/step - loss: 2.2994 - accuracy: 0.1150 - val_loss: 2.3028 - val_accuracy: 0.1128\n",
            "Epoch 8/10\n",
            "375/375 [==============================] - 2s 5ms/step - loss: 2.2971 - accuracy: 0.1159 - val_loss: 2.3116 - val_accuracy: 0.0989\n",
            "Epoch 9/10\n",
            "375/375 [==============================] - 2s 5ms/step - loss: 2.2932 - accuracy: 0.1229 - val_loss: 2.3072 - val_accuracy: 0.1090\n",
            "Epoch 10/10\n",
            "375/375 [==============================] - 2s 5ms/step - loss: 2.2894 - accuracy: 0.1245 - val_loss: 2.3096 - val_accuracy: 0.1072\n",
            "Epoch 1/10\n",
            "375/375 [==============================] - 3s 6ms/step - loss: 2.3141 - accuracy: 0.1026 - val_loss: 2.3062 - val_accuracy: 0.1105\n",
            "Epoch 2/10\n",
            "375/375 [==============================] - 2s 5ms/step - loss: 2.3011 - accuracy: 0.1135 - val_loss: 2.3100 - val_accuracy: 0.1070\n",
            "Epoch 3/10\n",
            "375/375 [==============================] - 2s 5ms/step - loss: 2.2933 - accuracy: 0.1236 - val_loss: 2.3201 - val_accuracy: 0.1000\n",
            "Epoch 4/10\n",
            "375/375 [==============================] - 2s 5ms/step - loss: 2.2824 - accuracy: 0.1332 - val_loss: 2.3212 - val_accuracy: 0.1008\n",
            "Epoch 5/10\n",
            "375/375 [==============================] - 2s 5ms/step - loss: 2.2676 - accuracy: 0.1477 - val_loss: 2.3323 - val_accuracy: 0.1044\n",
            "Epoch 6/10\n",
            "375/375 [==============================] - 2s 6ms/step - loss: 2.2497 - accuracy: 0.1613 - val_loss: 2.3430 - val_accuracy: 0.1034\n",
            "Epoch 7/10\n",
            "375/375 [==============================] - 2s 6ms/step - loss: 2.2274 - accuracy: 0.1758 - val_loss: 2.3565 - val_accuracy: 0.0994\n",
            "Epoch 8/10\n",
            "375/375 [==============================] - 2s 5ms/step - loss: 2.2051 - accuracy: 0.1895 - val_loss: 2.3835 - val_accuracy: 0.0976\n",
            "Epoch 9/10\n",
            "375/375 [==============================] - 2s 5ms/step - loss: 2.1796 - accuracy: 0.2011 - val_loss: 2.3956 - val_accuracy: 0.0922\n",
            "Epoch 10/10\n",
            "375/375 [==============================] - 2s 5ms/step - loss: 2.1523 - accuracy: 0.2168 - val_loss: 2.4184 - val_accuracy: 0.0933\n"
          ]
        }
      ],
      "source": [
        "from tensorflow import keras\n",
        "from tensorflow.keras import layers\n",
        "\n",
        "def get_model():\n",
        "    model = keras.Sequential([\n",
        "        layers.Dense(512, activation=\"relu\"),\n",
        "        layers.Dense(10, activation=\"softmax\")\n",
        "    ])\n",
        "    model.compile(optimizer=\"rmsprop\",\n",
        "                  loss=\"sparse_categorical_crossentropy\",\n",
        "                  metrics=[\"accuracy\"])\n",
        "    return model\n",
        "\n",
        "model = get_model()\n",
        "history_noise = model.fit(\n",
        "    train_images_with_noise_channels, train_labels,\n",
        "    epochs=10,\n",
        "    batch_size=128,\n",
        "    validation_split=0.2)  # training with noise channels\n",
        "\n",
        "model = get_model()\n",
        "history_zeros = model.fit(\n",
        "    train_images_with_zeros_channels, train_labels, # training with zeros channels\n",
        "    epochs=10,\n",
        "    batch_size=128,\n",
        "    validation_split=0.2)"
      ]
    },
    {
      "cell_type": "code",
      "source": [
        "model = get_model()\n",
        "history1 = model.fit(\n",
        "    train_images, train_labels, # training with zeros channels\n",
        "    epochs=10,\n",
        "    batch_size=128,\n",
        "    validation_split=0.2)"
      ],
      "metadata": {
        "id": "nWPQvwY-Dn28",
        "outputId": "736cfbf5-7a6d-47bb-cec5-82111485b900",
        "colab": {
          "base_uri": "https://localhost:8080/"
        }
      },
      "execution_count": 14,
      "outputs": [
        {
          "output_type": "stream",
          "name": "stdout",
          "text": [
            "Epoch 1/10\n",
            "375/375 [==============================] - 2s 5ms/step - loss: 2.3166 - accuracy: 0.1032 - val_loss: 2.3072 - val_accuracy: 0.1059\n",
            "Epoch 2/10\n",
            "375/375 [==============================] - 2s 4ms/step - loss: 2.3003 - accuracy: 0.1169 - val_loss: 2.3131 - val_accuracy: 0.0994\n",
            "Epoch 3/10\n",
            "375/375 [==============================] - 2s 4ms/step - loss: 2.2909 - accuracy: 0.1284 - val_loss: 2.3196 - val_accuracy: 0.1001\n",
            "Epoch 4/10\n",
            "375/375 [==============================] - 2s 4ms/step - loss: 2.2785 - accuracy: 0.1382 - val_loss: 2.3329 - val_accuracy: 0.1018\n",
            "Epoch 5/10\n",
            "375/375 [==============================] - 2s 5ms/step - loss: 2.2608 - accuracy: 0.1512 - val_loss: 2.3415 - val_accuracy: 0.1001\n",
            "Epoch 6/10\n",
            "375/375 [==============================] - 2s 4ms/step - loss: 2.2404 - accuracy: 0.1660 - val_loss: 2.3579 - val_accuracy: 0.0997\n",
            "Epoch 7/10\n",
            "375/375 [==============================] - 2s 5ms/step - loss: 2.2169 - accuracy: 0.1831 - val_loss: 2.3805 - val_accuracy: 0.0938\n",
            "Epoch 8/10\n",
            "375/375 [==============================] - 2s 4ms/step - loss: 2.1898 - accuracy: 0.1952 - val_loss: 2.3870 - val_accuracy: 0.0946\n",
            "Epoch 9/10\n",
            "375/375 [==============================] - 2s 4ms/step - loss: 2.1608 - accuracy: 0.2147 - val_loss: 2.4153 - val_accuracy: 0.0945\n",
            "Epoch 10/10\n",
            "375/375 [==============================] - 2s 5ms/step - loss: 2.1284 - accuracy: 0.2305 - val_loss: 2.4298 - val_accuracy: 0.0977\n"
          ]
        }
      ]
    },
    {
      "cell_type": "markdown",
      "metadata": {
        "id": "XoodwmFjhHXy"
      },
      "source": [
        "**Plotting a validation accuracy comparison**"
      ]
    },
    {
      "cell_type": "code",
      "source": [
        "import matplotlib.pyplot as plt"
      ],
      "metadata": {
        "id": "OMUf36N2ibfd"
      },
      "execution_count": 4,
      "outputs": []
    },
    {
      "cell_type": "code",
      "execution_count": 19,
      "metadata": {
        "id": "-zkrXZnChHXz",
        "outputId": "1c0c992b-a654-425a-87fe-150f3da1d183",
        "colab": {
          "base_uri": "https://localhost:8080/",
          "height": 313
        }
      },
      "outputs": [
        {
          "output_type": "execute_result",
          "data": {
            "text/plain": [
              "<matplotlib.legend.Legend at 0x7f9a15216d50>"
            ]
          },
          "metadata": {},
          "execution_count": 19
        },
        {
          "output_type": "display_data",
          "data": {
            "text/plain": [
              "<Figure size 432x288 with 1 Axes>"
            ],
            "image/png": "[encoded data removed]"
          },
          "metadata": {
            "needs_background": "light"
          }
        }
      ],
      "source": [
        "import matplotlib.pyplot as plt\n",
        "val_acc_noise = history_noise.history[\"val_accuracy\"]\n",
        "val_acc_zeros = history_zeros.history[\"val_accuracy\"]\n",
        "epochs = range(1, 11)\n",
        "plt.plot(epochs, val_acc_noise, \"b-\",\n",
        "         label=\"Validation accuracy with noise channels\")\n",
        "plt.plot(epochs, val_acc_zeros, \"b--\",\n",
        "         label=\"Validation accuracy with zeros channels\")\n",
        "plt.title(\"Effect of noise channels on validation accuracy\")\n",
        "plt.xlabel(\"Epochs\")\n",
        "plt.ylabel(\"Accuracy\")\n",
        "plt.legend()"
      ]
    },
    {
      "cell_type": "markdown",
      "source": [
        "- The accuracy of noise channels and zeros channels looks different."
      ],
      "metadata": {
        "id": "lGABktijGL_H"
      }
    },
    {
      "cell_type": "code",
      "source": [
        "import matplotlib.pyplot as plt\n",
        "val_acc = history1.history[\"val_accuracy\"]\n",
        "val_acc_zeros = history_zeros.history[\"val_accuracy\"]\n",
        "epochs = range(1, 11)\n",
        "plt.plot(epochs, val_acc, \"b-\",\n",
        "         label=\"Validation accuracy with original data\")\n",
        "plt.plot(epochs, val_acc_zeros, \"b--\",\n",
        "         label=\"Validation accuracy with zeros channels\")\n",
        "plt.title(\"Effect of noise channels on validation accuracy\")\n",
        "plt.xlabel(\"Epochs\")\n",
        "plt.ylabel(\"Accuracy\")\n",
        "plt.legend()"
      ],
      "metadata": {
        "id": "jMsaprQuD8-U",
        "outputId": "d8c85aa2-f51c-4d85-8449-27d3886168e5",
        "colab": {
          "base_uri": "https://localhost:8080/",
          "height": 313
        }
      },
      "execution_count": 20,
      "outputs": [
        {
          "output_type": "execute_result",
          "data": {
            "text/plain": [
              "<matplotlib.legend.Legend at 0x7f9a15191d90>"
            ]
          },
          "metadata": {},
          "execution_count": 20
        },
        {
          "output_type": "display_data",
          "data": {
            "text/plain": [
              "<Figure size 432x288 with 1 Axes>"
            ],
            "image/png": "[encoded data removed]"
          },
          "metadata": {
            "needs_background": "light"
          }
        }
      ]
    },
    {
      "cell_type": "markdown",
      "source": [
        "- The accuracy of original data and zero channels are similar."
      ],
      "metadata": {
        "id": "5yRRCTIgF_MG"
      }
    },
    {
      "cell_type": "markdown",
      "metadata": {
        "id": "GiQysphMhHX0"
      },
      "source": [
        "### The nature of generalization in deep learning"
      ]
    },
    {
      "cell_type": "markdown",
      "metadata": {
        "id": "2WH5Ubo4hHX1"
      },
      "source": [
        "**Fitting a MNIST model with randomly shuffled labels**"
      ]
    },
    {
      "cell_type": "code",
      "execution_count": 7,
      "metadata": {
        "id": "_owXtaT3hHX1",
        "outputId": "7c5a820c-b90a-4dbd-b08c-3a6cc2c7af57",
        "colab": {
          "base_uri": "https://localhost:8080/"
        }
      },
      "outputs": [
        {
          "output_type": "stream",
          "name": "stdout",
          "text": [
            "Epoch 1/100\n",
            "375/375 [==============================] - 2s 5ms/step - loss: 2.3159 - accuracy: 0.1016 - val_loss: 2.3040 - val_accuracy: 0.1046\n",
            "Epoch 2/100\n",
            "375/375 [==============================] - 2s 4ms/step - loss: 2.3001 - accuracy: 0.1145 - val_loss: 2.3134 - val_accuracy: 0.1046\n",
            "Epoch 3/100\n",
            "375/375 [==============================] - 2s 5ms/step - loss: 2.2907 - accuracy: 0.1256 - val_loss: 2.3176 - val_accuracy: 0.1043\n",
            "Epoch 4/100\n",
            "375/375 [==============================] - 2s 4ms/step - loss: 2.2762 - accuracy: 0.1410 - val_loss: 2.3342 - val_accuracy: 0.1010\n",
            "Epoch 5/100\n",
            "375/375 [==============================] - 2s 5ms/step - loss: 2.2580 - accuracy: 0.1529 - val_loss: 2.3456 - val_accuracy: 0.1008\n",
            "Epoch 6/100\n",
            "375/375 [==============================] - 2s 4ms/step - loss: 2.2380 - accuracy: 0.1686 - val_loss: 2.3565 - val_accuracy: 0.1004\n",
            "Epoch 7/100\n",
            "375/375 [==============================] - 2s 4ms/step - loss: 2.2161 - accuracy: 0.1807 - val_loss: 2.3763 - val_accuracy: 0.0972\n",
            "Epoch 8/100\n",
            "375/375 [==============================] - 2s 6ms/step - loss: 2.1869 - accuracy: 0.1994 - val_loss: 2.3925 - val_accuracy: 0.1024\n",
            "Epoch 9/100\n",
            "375/375 [==============================] - 3s 7ms/step - loss: 2.1589 - accuracy: 0.2133 - val_loss: 2.4120 - val_accuracy: 0.0978\n",
            "Epoch 10/100\n",
            "375/375 [==============================] - 2s 6ms/step - loss: 2.1283 - accuracy: 0.2275 - val_loss: 2.4449 - val_accuracy: 0.0972\n",
            "Epoch 11/100\n",
            "375/375 [==============================] - 3s 7ms/step - loss: 2.0948 - accuracy: 0.2436 - val_loss: 2.4623 - val_accuracy: 0.0998\n",
            "Epoch 12/100\n",
            "375/375 [==============================] - 2s 6ms/step - loss: 2.0622 - accuracy: 0.2598 - val_loss: 2.4831 - val_accuracy: 0.0985\n",
            "Epoch 13/100\n",
            "375/375 [==============================] - 2s 5ms/step - loss: 2.0254 - accuracy: 0.2771 - val_loss: 2.5205 - val_accuracy: 0.0910\n",
            "Epoch 14/100\n",
            "375/375 [==============================] - 2s 5ms/step - loss: 1.9927 - accuracy: 0.2918 - val_loss: 2.5500 - val_accuracy: 0.0948\n",
            "Epoch 15/100\n",
            "375/375 [==============================] - 2s 4ms/step - loss: 1.9587 - accuracy: 0.3046 - val_loss: 2.5830 - val_accuracy: 0.0988\n",
            "Epoch 16/100\n",
            "375/375 [==============================] - 2s 4ms/step - loss: 1.9229 - accuracy: 0.3201 - val_loss: 2.6171 - val_accuracy: 0.1000\n",
            "Epoch 17/100\n",
            "375/375 [==============================] - 2s 4ms/step - loss: 1.8910 - accuracy: 0.3350 - val_loss: 2.6444 - val_accuracy: 0.0979\n",
            "Epoch 18/100\n",
            "375/375 [==============================] - 2s 4ms/step - loss: 1.8550 - accuracy: 0.3489 - val_loss: 2.6819 - val_accuracy: 0.0980\n",
            "Epoch 19/100\n",
            "375/375 [==============================] - 2s 4ms/step - loss: 1.8228 - accuracy: 0.3614 - val_loss: 2.7317 - val_accuracy: 0.0928\n",
            "Epoch 20/100\n",
            "375/375 [==============================] - 2s 4ms/step - loss: 1.7901 - accuracy: 0.3747 - val_loss: 2.7623 - val_accuracy: 0.0963\n",
            "Epoch 21/100\n",
            "375/375 [==============================] - 2s 5ms/step - loss: 1.7582 - accuracy: 0.3869 - val_loss: 2.7996 - val_accuracy: 0.1008\n",
            "Epoch 22/100\n",
            "375/375 [==============================] - 2s 5ms/step - loss: 1.7273 - accuracy: 0.4007 - val_loss: 2.8243 - val_accuracy: 0.1017\n",
            "Epoch 23/100\n",
            "375/375 [==============================] - 2s 5ms/step - loss: 1.6961 - accuracy: 0.4108 - val_loss: 2.8643 - val_accuracy: 0.0986\n",
            "Epoch 24/100\n",
            "375/375 [==============================] - 2s 4ms/step - loss: 1.6647 - accuracy: 0.4223 - val_loss: 2.9073 - val_accuracy: 0.0999\n",
            "Epoch 25/100\n",
            "375/375 [==============================] - 2s 4ms/step - loss: 1.6367 - accuracy: 0.4353 - val_loss: 2.9497 - val_accuracy: 0.0978\n",
            "Epoch 26/100\n",
            "375/375 [==============================] - 2s 5ms/step - loss: 1.6063 - accuracy: 0.4457 - val_loss: 2.9813 - val_accuracy: 0.1013\n",
            "Epoch 27/100\n",
            "375/375 [==============================] - 2s 4ms/step - loss: 1.5795 - accuracy: 0.4542 - val_loss: 3.0243 - val_accuracy: 0.1007\n",
            "Epoch 28/100\n",
            "375/375 [==============================] - 2s 4ms/step - loss: 1.5509 - accuracy: 0.4654 - val_loss: 3.0680 - val_accuracy: 0.0989\n",
            "Epoch 29/100\n",
            "375/375 [==============================] - 2s 4ms/step - loss: 1.5257 - accuracy: 0.4763 - val_loss: 3.1152 - val_accuracy: 0.1046\n",
            "Epoch 30/100\n",
            "375/375 [==============================] - 2s 4ms/step - loss: 1.4987 - accuracy: 0.4844 - val_loss: 3.1752 - val_accuracy: 0.1002\n",
            "Epoch 31/100\n",
            "375/375 [==============================] - 2s 5ms/step - loss: 1.4742 - accuracy: 0.4931 - val_loss: 3.2013 - val_accuracy: 0.0961\n",
            "Epoch 32/100\n",
            "375/375 [==============================] - 2s 4ms/step - loss: 1.4466 - accuracy: 0.5058 - val_loss: 3.2669 - val_accuracy: 0.0984\n",
            "Epoch 33/100\n",
            "375/375 [==============================] - 2s 5ms/step - loss: 1.4236 - accuracy: 0.5105 - val_loss: 3.3151 - val_accuracy: 0.1026\n",
            "Epoch 34/100\n",
            "375/375 [==============================] - 2s 5ms/step - loss: 1.3981 - accuracy: 0.5222 - val_loss: 3.3906 - val_accuracy: 0.1005\n",
            "Epoch 35/100\n",
            "375/375 [==============================] - 2s 5ms/step - loss: 1.3763 - accuracy: 0.5290 - val_loss: 3.3980 - val_accuracy: 0.0999\n",
            "Epoch 36/100\n",
            "375/375 [==============================] - 2s 4ms/step - loss: 1.3528 - accuracy: 0.5383 - val_loss: 3.4426 - val_accuracy: 0.1002\n",
            "Epoch 37/100\n",
            "375/375 [==============================] - 2s 4ms/step - loss: 1.3304 - accuracy: 0.5444 - val_loss: 3.5037 - val_accuracy: 0.0976\n",
            "Epoch 38/100\n",
            "375/375 [==============================] - 2s 4ms/step - loss: 1.3065 - accuracy: 0.5562 - val_loss: 3.5493 - val_accuracy: 0.1032\n",
            "Epoch 39/100\n",
            "375/375 [==============================] - 2s 5ms/step - loss: 1.2848 - accuracy: 0.5620 - val_loss: 3.5910 - val_accuracy: 0.1030\n",
            "Epoch 40/100\n",
            "375/375 [==============================] - 2s 5ms/step - loss: 1.2645 - accuracy: 0.5703 - val_loss: 3.6543 - val_accuracy: 0.1014\n",
            "Epoch 41/100\n",
            "375/375 [==============================] - 2s 5ms/step - loss: 1.2446 - accuracy: 0.5788 - val_loss: 3.7185 - val_accuracy: 0.0990\n",
            "Epoch 42/100\n",
            "375/375 [==============================] - 2s 4ms/step - loss: 1.2204 - accuracy: 0.5870 - val_loss: 3.7579 - val_accuracy: 0.0997\n",
            "Epoch 43/100\n",
            "375/375 [==============================] - 2s 4ms/step - loss: 1.2031 - accuracy: 0.5947 - val_loss: 3.8277 - val_accuracy: 0.1046\n",
            "Epoch 44/100\n",
            "375/375 [==============================] - 2s 4ms/step - loss: 1.1838 - accuracy: 0.5994 - val_loss: 3.8794 - val_accuracy: 0.0981\n",
            "Epoch 45/100\n",
            "375/375 [==============================] - 2s 4ms/step - loss: 1.1630 - accuracy: 0.6060 - val_loss: 3.9399 - val_accuracy: 0.1006\n",
            "Epoch 46/100\n",
            "375/375 [==============================] - 2s 5ms/step - loss: 1.1471 - accuracy: 0.6148 - val_loss: 3.9720 - val_accuracy: 0.1018\n",
            "Epoch 47/100\n",
            "375/375 [==============================] - 2s 5ms/step - loss: 1.1265 - accuracy: 0.6197 - val_loss: 4.0232 - val_accuracy: 0.1037\n",
            "Epoch 48/100\n",
            "375/375 [==============================] - 2s 4ms/step - loss: 1.1085 - accuracy: 0.6285 - val_loss: 4.1055 - val_accuracy: 0.0994\n",
            "Epoch 49/100\n",
            "375/375 [==============================] - 2s 5ms/step - loss: 1.0912 - accuracy: 0.6328 - val_loss: 4.1316 - val_accuracy: 0.0991\n",
            "Epoch 50/100\n",
            "375/375 [==============================] - 2s 5ms/step - loss: 1.0744 - accuracy: 0.6380 - val_loss: 4.1998 - val_accuracy: 0.1008\n",
            "Epoch 51/100\n",
            "375/375 [==============================] - 2s 5ms/step - loss: 1.0591 - accuracy: 0.6442 - val_loss: 4.2826 - val_accuracy: 0.1039\n",
            "Epoch 52/100\n",
            "375/375 [==============================] - 2s 5ms/step - loss: 1.0422 - accuracy: 0.6496 - val_loss: 4.2909 - val_accuracy: 0.1032\n",
            "Epoch 53/100\n",
            "375/375 [==============================] - 2s 4ms/step - loss: 1.0254 - accuracy: 0.6559 - val_loss: 4.3418 - val_accuracy: 0.1053\n",
            "Epoch 54/100\n",
            "375/375 [==============================] - 2s 5ms/step - loss: 1.0093 - accuracy: 0.6624 - val_loss: 4.3803 - val_accuracy: 0.1067\n",
            "Epoch 55/100\n",
            "375/375 [==============================] - 2s 6ms/step - loss: 0.9928 - accuracy: 0.6670 - val_loss: 4.4708 - val_accuracy: 0.1054\n",
            "Epoch 56/100\n",
            "375/375 [==============================] - 2s 5ms/step - loss: 0.9768 - accuracy: 0.6737 - val_loss: 4.5054 - val_accuracy: 0.1077\n",
            "Epoch 57/100\n",
            "375/375 [==============================] - 2s 5ms/step - loss: 0.9624 - accuracy: 0.6772 - val_loss: 4.6045 - val_accuracy: 0.1010\n",
            "Epoch 58/100\n",
            "375/375 [==============================] - 2s 5ms/step - loss: 0.9473 - accuracy: 0.6831 - val_loss: 4.6653 - val_accuracy: 0.1042\n",
            "Epoch 59/100\n",
            "375/375 [==============================] - 2s 5ms/step - loss: 0.9332 - accuracy: 0.6888 - val_loss: 4.6728 - val_accuracy: 0.1049\n",
            "Epoch 60/100\n",
            "375/375 [==============================] - 2s 4ms/step - loss: 0.9181 - accuracy: 0.6936 - val_loss: 4.7722 - val_accuracy: 0.1023\n",
            "Epoch 61/100\n",
            "375/375 [==============================] - 2s 4ms/step - loss: 0.9055 - accuracy: 0.6989 - val_loss: 4.8628 - val_accuracy: 0.1023\n",
            "Epoch 62/100\n",
            "375/375 [==============================] - 2s 5ms/step - loss: 0.8911 - accuracy: 0.7036 - val_loss: 4.8959 - val_accuracy: 0.1032\n",
            "Epoch 63/100\n",
            "375/375 [==============================] - 2s 4ms/step - loss: 0.8773 - accuracy: 0.7089 - val_loss: 4.9705 - val_accuracy: 0.1009\n",
            "Epoch 64/100\n",
            "375/375 [==============================] - 2s 5ms/step - loss: 0.8635 - accuracy: 0.7137 - val_loss: 4.9961 - val_accuracy: 0.1023\n",
            "Epoch 65/100\n",
            "375/375 [==============================] - 2s 4ms/step - loss: 0.8513 - accuracy: 0.7174 - val_loss: 5.0888 - val_accuracy: 0.1052\n",
            "Epoch 66/100\n",
            "375/375 [==============================] - 2s 4ms/step - loss: 0.8372 - accuracy: 0.7226 - val_loss: 5.1479 - val_accuracy: 0.1061\n",
            "Epoch 67/100\n",
            "375/375 [==============================] - 2s 5ms/step - loss: 0.8262 - accuracy: 0.7251 - val_loss: 5.1919 - val_accuracy: 0.1005\n",
            "Epoch 68/100\n",
            "375/375 [==============================] - 2s 5ms/step - loss: 0.8114 - accuracy: 0.7336 - val_loss: 5.2839 - val_accuracy: 0.1058\n",
            "Epoch 69/100\n",
            "375/375 [==============================] - 2s 4ms/step - loss: 0.8004 - accuracy: 0.7374 - val_loss: 5.3075 - val_accuracy: 0.1061\n",
            "Epoch 70/100\n",
            "375/375 [==============================] - 2s 5ms/step - loss: 0.7881 - accuracy: 0.7408 - val_loss: 5.3623 - val_accuracy: 0.1048\n",
            "Epoch 71/100\n",
            "375/375 [==============================] - 2s 4ms/step - loss: 0.7767 - accuracy: 0.7444 - val_loss: 5.4428 - val_accuracy: 0.1031\n",
            "Epoch 72/100\n",
            "375/375 [==============================] - 2s 4ms/step - loss: 0.7665 - accuracy: 0.7479 - val_loss: 5.4983 - val_accuracy: 0.1042\n",
            "Epoch 73/100\n",
            "375/375 [==============================] - 2s 5ms/step - loss: 0.7550 - accuracy: 0.7510 - val_loss: 5.5907 - val_accuracy: 0.1030\n",
            "Epoch 74/100\n",
            "375/375 [==============================] - 2s 5ms/step - loss: 0.7396 - accuracy: 0.7574 - val_loss: 5.6290 - val_accuracy: 0.1018\n",
            "Epoch 75/100\n",
            "375/375 [==============================] - 2s 5ms/step - loss: 0.7338 - accuracy: 0.7585 - val_loss: 5.6713 - val_accuracy: 0.1023\n",
            "Epoch 76/100\n",
            "375/375 [==============================] - 2s 5ms/step - loss: 0.7188 - accuracy: 0.7656 - val_loss: 5.7315 - val_accuracy: 0.1035\n",
            "Epoch 77/100\n",
            "375/375 [==============================] - 2s 4ms/step - loss: 0.7088 - accuracy: 0.7697 - val_loss: 5.8410 - val_accuracy: 0.1004\n",
            "Epoch 78/100\n",
            "375/375 [==============================] - 2s 5ms/step - loss: 0.7008 - accuracy: 0.7701 - val_loss: 5.8850 - val_accuracy: 0.1013\n",
            "Epoch 79/100\n",
            "375/375 [==============================] - 2s 4ms/step - loss: 0.6888 - accuracy: 0.7752 - val_loss: 5.9322 - val_accuracy: 0.1021\n",
            "Epoch 80/100\n",
            "375/375 [==============================] - 2s 4ms/step - loss: 0.6787 - accuracy: 0.7775 - val_loss: 6.0309 - val_accuracy: 0.1022\n",
            "Epoch 81/100\n",
            "375/375 [==============================] - 2s 5ms/step - loss: 0.6702 - accuracy: 0.7828 - val_loss: 6.0987 - val_accuracy: 0.1048\n",
            "Epoch 82/100\n",
            "375/375 [==============================] - 2s 5ms/step - loss: 0.6599 - accuracy: 0.7866 - val_loss: 6.1751 - val_accuracy: 0.1032\n",
            "Epoch 83/100\n",
            "375/375 [==============================] - 2s 4ms/step - loss: 0.6508 - accuracy: 0.7885 - val_loss: 6.2457 - val_accuracy: 0.1016\n",
            "Epoch 84/100\n",
            "375/375 [==============================] - 2s 4ms/step - loss: 0.6384 - accuracy: 0.7924 - val_loss: 6.2846 - val_accuracy: 0.1027\n",
            "Epoch 85/100\n",
            "375/375 [==============================] - 2s 4ms/step - loss: 0.6315 - accuracy: 0.7938 - val_loss: 6.3704 - val_accuracy: 0.1012\n",
            "Epoch 86/100\n",
            "375/375 [==============================] - 2s 4ms/step - loss: 0.6210 - accuracy: 0.7975 - val_loss: 6.4077 - val_accuracy: 0.1017\n",
            "Epoch 87/100\n",
            "375/375 [==============================] - 2s 4ms/step - loss: 0.6142 - accuracy: 0.8012 - val_loss: 6.4647 - val_accuracy: 0.1036\n",
            "Epoch 88/100\n",
            "375/375 [==============================] - 2s 5ms/step - loss: 0.6040 - accuracy: 0.8041 - val_loss: 6.5639 - val_accuracy: 0.1030\n",
            "Epoch 89/100\n",
            "375/375 [==============================] - 2s 5ms/step - loss: 0.5940 - accuracy: 0.8101 - val_loss: 6.6443 - val_accuracy: 0.1037\n",
            "Epoch 90/100\n",
            "375/375 [==============================] - 2s 5ms/step - loss: 0.5868 - accuracy: 0.8115 - val_loss: 6.6785 - val_accuracy: 0.0997\n",
            "Epoch 91/100\n",
            "375/375 [==============================] - 2s 5ms/step - loss: 0.5782 - accuracy: 0.8128 - val_loss: 6.7625 - val_accuracy: 0.1021\n",
            "Epoch 92/100\n",
            "375/375 [==============================] - 2s 4ms/step - loss: 0.5705 - accuracy: 0.8175 - val_loss: 6.7767 - val_accuracy: 0.0994\n",
            "Epoch 93/100\n",
            "375/375 [==============================] - 2s 4ms/step - loss: 0.5606 - accuracy: 0.8199 - val_loss: 6.9578 - val_accuracy: 0.0987\n",
            "Epoch 94/100\n",
            "375/375 [==============================] - 2s 4ms/step - loss: 0.5538 - accuracy: 0.8221 - val_loss: 6.9655 - val_accuracy: 0.1047\n",
            "Epoch 95/100\n",
            "375/375 [==============================] - 2s 4ms/step - loss: 0.5483 - accuracy: 0.8225 - val_loss: 7.0351 - val_accuracy: 0.1024\n",
            "Epoch 96/100\n",
            "375/375 [==============================] - 2s 4ms/step - loss: 0.5394 - accuracy: 0.8255 - val_loss: 7.1369 - val_accuracy: 0.1035\n",
            "Epoch 97/100\n",
            "375/375 [==============================] - 2s 5ms/step - loss: 0.5295 - accuracy: 0.8314 - val_loss: 7.1460 - val_accuracy: 0.1041\n",
            "Epoch 98/100\n",
            "375/375 [==============================] - 2s 4ms/step - loss: 0.5222 - accuracy: 0.8323 - val_loss: 7.2137 - val_accuracy: 0.0993\n",
            "Epoch 99/100\n",
            "375/375 [==============================] - 2s 5ms/step - loss: 0.5183 - accuracy: 0.8335 - val_loss: 7.3472 - val_accuracy: 0.1023\n",
            "Epoch 100/100\n",
            "375/375 [==============================] - 2s 4ms/step - loss: 0.5098 - accuracy: 0.8355 - val_loss: 7.3236 - val_accuracy: 0.1032\n"
          ]
        },
        {
          "output_type": "execute_result",
          "data": {
            "text/plain": [
              "<keras.callbacks.History at 0x7f9a93916910>"
            ]
          },
          "metadata": {},
          "execution_count": 7
        }
      ],
      "source": [
        "(train_images, train_labels), _ = mnist.load_data()\n",
        "train_images = train_images.reshape((60000, 28 * 28))\n",
        "train_images = train_images.astype(\"float32\") / 255\n",
        "\n",
        "random_train_labels = train_labels[:]\n",
        "np.random.shuffle(random_train_labels)\n",
        "\n",
        "model = keras.Sequential([\n",
        "    layers.Dense(512, activation=\"relu\"),\n",
        "    layers.Dense(10, activation=\"softmax\")\n",
        "])\n",
        "model.compile(optimizer=\"rmsprop\",\n",
        "              loss=\"sparse_categorical_crossentropy\",\n",
        "              metrics=[\"accuracy\"])\n",
        "model.fit(train_images, random_train_labels,\n",
        "          epochs=100,\n",
        "          batch_size=128,\n",
        "          validation_split=0.2)"
      ]
    },
    {
      "cell_type": "markdown",
      "metadata": {
        "id": "6taYsnhRhHX2"
      },
      "source": [
        "#### The manifold hypothesis"
      ]
    },
    {
      "cell_type": "markdown",
      "metadata": {
        "id": "LB_msI1XhHX2"
      },
      "source": [
        "#### Interpolation as a source of generalization"
      ]
    },
    {
      "cell_type": "markdown",
      "metadata": {
        "id": "TnAvF19ghHX2"
      },
      "source": [
        "#### Why deep learning works"
      ]
    },
    {
      "cell_type": "markdown",
      "metadata": {
        "id": "MYogj3PfhHX3"
      },
      "source": [
        "#### Training data is paramount"
      ]
    },
    {
      "cell_type": "markdown",
      "metadata": {
        "id": "DP1A2JIghHX3"
      },
      "source": [
        "## Evaluating machine-learning models"
      ]
    },
    {
      "cell_type": "markdown",
      "metadata": {
        "id": "JBOP0gZRhHX3"
      },
      "source": [
        "### Training, validation, and test sets"
      ]
    },
    {
      "cell_type": "markdown",
      "metadata": {
        "id": "f4QsU-RGhHX3"
      },
      "source": [
        "#### Simple hold-out validation"
      ]
    },
    {
      "cell_type": "markdown",
      "metadata": {
        "id": "Ad4U76YvhHX4"
      },
      "source": [
        "#### K-fold validation"
      ]
    },
    {
      "cell_type": "markdown",
      "metadata": {
        "id": "lRqJajNohHX4"
      },
      "source": [
        "#### Iterated K-fold validation with shuffling"
      ]
    },
    {
      "cell_type": "markdown",
      "metadata": {
        "id": "nqfu4kn6hHX4"
      },
      "source": [
        "### Beating a common-sense baseline"
      ]
    },
    {
      "cell_type": "markdown",
      "metadata": {
        "id": "yB4r-m06hHX4"
      },
      "source": [
        "### Things to keep in mind about model evaluation"
      ]
    },
    {
      "cell_type": "markdown",
      "metadata": {
        "id": "lK3qwGJ2hHX4"
      },
      "source": [
        "## Improving model fit"
      ]
    },
    {
      "cell_type": "markdown",
      "metadata": {
        "id": "sT_uH-QjhHX5"
      },
      "source": [
        "### Tuning key gradient descent parameters"
      ]
    },
    {
      "cell_type": "markdown",
      "metadata": {
        "id": "5jxthVIMhHX5"
      },
      "source": [
        "**Training a MNIST model with an incorrectly high learning rate**"
      ]
    },
    {
      "cell_type": "code",
      "execution_count": 5,
      "metadata": {
        "id": "GWG3lNtGhHX5",
        "outputId": "b33338c4-6fe2-448b-9b15-bf237abbda01",
        "colab": {
          "base_uri": "https://localhost:8080/"
        }
      },
      "outputs": [
        {
          "output_type": "stream",
          "name": "stdout",
          "text": [
            "Downloading data from https://storage.googleapis.com/tensorflow/tf-keras-datasets/mnist.npz\n",
            "11493376/11490434 [==============================] - 0s 0us/step\n",
            "11501568/11490434 [==============================] - 0s 0us/step\n",
            "Epoch 1/10\n",
            "375/375 [==============================] - 8s 7ms/step - loss: 1063.2522 - accuracy: 0.4013 - val_loss: 2.1798 - val_accuracy: 0.2371\n",
            "Epoch 2/10\n",
            "375/375 [==============================] - 2s 5ms/step - loss: 3.8574 - accuracy: 0.2770 - val_loss: 2.0820 - val_accuracy: 0.2458\n",
            "Epoch 3/10\n",
            "375/375 [==============================] - 2s 5ms/step - loss: 2.9042 - accuracy: 0.2606 - val_loss: 2.5206 - val_accuracy: 0.3030\n",
            "Epoch 4/10\n",
            "375/375 [==============================] - 2s 5ms/step - loss: 2.9141 - accuracy: 0.2673 - val_loss: 2.1006 - val_accuracy: 0.2184\n",
            "Epoch 5/10\n",
            "375/375 [==============================] - 2s 5ms/step - loss: 2.7135 - accuracy: 0.2900 - val_loss: 2.4255 - val_accuracy: 0.3033\n",
            "Epoch 6/10\n",
            "375/375 [==============================] - 2s 4ms/step - loss: 2.7035 - accuracy: 0.2772 - val_loss: 2.7467 - val_accuracy: 0.2279\n",
            "Epoch 7/10\n",
            "375/375 [==============================] - 2s 4ms/step - loss: 2.6746 - accuracy: 0.2948 - val_loss: 2.0757 - val_accuracy: 0.3305\n",
            "Epoch 8/10\n",
            "375/375 [==============================] - 2s 4ms/step - loss: 2.8413 - accuracy: 0.3285 - val_loss: 3.6957 - val_accuracy: 0.3199\n",
            "Epoch 9/10\n",
            "375/375 [==============================] - 2s 4ms/step - loss: 2.6314 - accuracy: 0.3036 - val_loss: 2.5828 - val_accuracy: 0.3108\n",
            "Epoch 10/10\n",
            "375/375 [==============================] - 2s 5ms/step - loss: 2.4956 - accuracy: 0.2998 - val_loss: 2.6831 - val_accuracy: 0.2911\n"
          ]
        },
        {
          "output_type": "execute_result",
          "data": {
            "text/plain": [
              "<keras.callbacks.History at 0x7f3f9034a9d0>"
            ]
          },
          "metadata": {},
          "execution_count": 5
        }
      ],
      "source": [
        "(train_images, train_labels), _ = mnist.load_data()\n",
        "train_images = train_images.reshape((60000, 28 * 28))\n",
        "train_images = train_images.astype(\"float32\") / 255\n",
        "\n",
        "model = keras.Sequential([\n",
        "    layers.Dense(512, activation=\"relu\"),\n",
        "    layers.Dense(10, activation=\"softmax\")\n",
        "])\n",
        "model.compile(optimizer=keras.optimizers.RMSprop(1.),   # incorrectly high LR\n",
        "              loss=\"sparse_categorical_crossentropy\",\n",
        "              metrics=[\"accuracy\"])\n",
        "model.fit(train_images, train_labels,\n",
        "          epochs=10,\n",
        "          batch_size=128,\n",
        "          validation_split=0.2) "
      ]
    },
    {
      "cell_type": "markdown",
      "source": [
        "- Both training and valid acc does not improve."
      ],
      "metadata": {
        "id": "4DqlXIJMila7"
      }
    },
    {
      "cell_type": "markdown",
      "metadata": {
        "id": "5lRTfnQkhHX5"
      },
      "source": [
        "**The same model with a more appropriate learning rate**"
      ]
    },
    {
      "cell_type": "code",
      "execution_count": 6,
      "metadata": {
        "id": "2ysWtoFJhHX6",
        "outputId": "b5d22838-34b1-42bc-d4a2-a526a275448b",
        "colab": {
          "base_uri": "https://localhost:8080/"
        }
      },
      "outputs": [
        {
          "output_type": "stream",
          "name": "stdout",
          "text": [
            "Epoch 1/10\n",
            "375/375 [==============================] - 2s 5ms/step - loss: 0.3713 - accuracy: 0.9086 - val_loss: 0.1428 - val_accuracy: 0.9578\n",
            "Epoch 2/10\n",
            "375/375 [==============================] - 2s 5ms/step - loss: 0.1440 - accuracy: 0.9622 - val_loss: 0.1772 - val_accuracy: 0.9610\n",
            "Epoch 3/10\n",
            "375/375 [==============================] - 2s 5ms/step - loss: 0.1147 - accuracy: 0.9733 - val_loss: 0.2181 - val_accuracy: 0.9598\n",
            "Epoch 4/10\n",
            "375/375 [==============================] - 2s 4ms/step - loss: 0.0987 - accuracy: 0.9774 - val_loss: 0.2289 - val_accuracy: 0.9634\n",
            "Epoch 5/10\n",
            "375/375 [==============================] - 2s 4ms/step - loss: 0.0917 - accuracy: 0.9812 - val_loss: 0.2639 - val_accuracy: 0.9640\n",
            "Epoch 6/10\n",
            "375/375 [==============================] - 2s 5ms/step - loss: 0.0836 - accuracy: 0.9836 - val_loss: 0.2504 - val_accuracy: 0.9678\n",
            "Epoch 7/10\n",
            "375/375 [==============================] - 2s 4ms/step - loss: 0.0751 - accuracy: 0.9862 - val_loss: 0.2006 - val_accuracy: 0.9743\n",
            "Epoch 8/10\n",
            "375/375 [==============================] - 2s 5ms/step - loss: 0.0691 - accuracy: 0.9877 - val_loss: 0.2691 - val_accuracy: 0.9708\n",
            "Epoch 9/10\n",
            "375/375 [==============================] - 2s 5ms/step - loss: 0.0585 - accuracy: 0.9890 - val_loss: 0.3063 - val_accuracy: 0.9707\n",
            "Epoch 10/10\n",
            "375/375 [==============================] - 3s 9ms/step - loss: 0.0539 - accuracy: 0.9901 - val_loss: 0.3263 - val_accuracy: 0.9726\n"
          ]
        },
        {
          "output_type": "execute_result",
          "data": {
            "text/plain": [
              "<keras.callbacks.History at 0x7f3f9b602450>"
            ]
          },
          "metadata": {},
          "execution_count": 6
        }
      ],
      "source": [
        "model = keras.Sequential([\n",
        "    layers.Dense(512, activation=\"relu\"),\n",
        "    layers.Dense(10, activation=\"softmax\")\n",
        "])\n",
        "model.compile(optimizer=keras.optimizers.RMSprop(1e-2),   #modify gradient descent parameter\n",
        "              loss=\"sparse_categorical_crossentropy\",\n",
        "              metrics=[\"accuracy\"])\n",
        "model.fit(train_images, train_labels,\n",
        "          epochs=10,\n",
        "          batch_size=128,\n",
        "          validation_split=0.2)"
      ]
    },
    {
      "cell_type": "markdown",
      "metadata": {
        "id": "5DzyNdUPhHX6"
      },
      "source": [
        "### Leveraging better architecture priors"
      ]
    },
    {
      "cell_type": "markdown",
      "metadata": {
        "id": "WYcZDpBVhHX7"
      },
      "source": [
        "### Increasing model capacity"
      ]
    },
    {
      "cell_type": "markdown",
      "metadata": {
        "id": "798O_knhhHX7"
      },
      "source": [
        "**A simple logistic regression on MNIST**"
      ]
    },
    {
      "cell_type": "code",
      "execution_count": 7,
      "metadata": {
        "id": "MwElbXrqhHX7",
        "outputId": "be8eace3-59bc-4ebd-eaf1-af6ae7ea197a",
        "colab": {
          "base_uri": "https://localhost:8080/"
        }
      },
      "outputs": [
        {
          "output_type": "stream",
          "name": "stdout",
          "text": [
            "Epoch 1/20\n",
            "375/375 [==============================] - 2s 4ms/step - loss: 0.6752 - accuracy: 0.8347 - val_loss: 0.3578 - val_accuracy: 0.9043\n",
            "Epoch 2/20\n",
            "375/375 [==============================] - 2s 5ms/step - loss: 0.3508 - accuracy: 0.9041 - val_loss: 0.3102 - val_accuracy: 0.9129\n",
            "Epoch 3/20\n",
            "375/375 [==============================] - 2s 5ms/step - loss: 0.3154 - accuracy: 0.9120 - val_loss: 0.2910 - val_accuracy: 0.9180\n",
            "Epoch 4/20\n",
            "375/375 [==============================] - 2s 5ms/step - loss: 0.2996 - accuracy: 0.9166 - val_loss: 0.2800 - val_accuracy: 0.9236\n",
            "Epoch 5/20\n",
            "375/375 [==============================] - 2s 4ms/step - loss: 0.2895 - accuracy: 0.9193 - val_loss: 0.2754 - val_accuracy: 0.9233\n",
            "Epoch 6/20\n",
            "375/375 [==============================] - 3s 7ms/step - loss: 0.2830 - accuracy: 0.9212 - val_loss: 0.2734 - val_accuracy: 0.9241\n",
            "Epoch 7/20\n",
            "375/375 [==============================] - 2s 5ms/step - loss: 0.2780 - accuracy: 0.9223 - val_loss: 0.2707 - val_accuracy: 0.9252\n",
            "Epoch 8/20\n",
            "375/375 [==============================] - 2s 4ms/step - loss: 0.2744 - accuracy: 0.9236 - val_loss: 0.2670 - val_accuracy: 0.9277\n",
            "Epoch 9/20\n",
            "375/375 [==============================] - 2s 5ms/step - loss: 0.2713 - accuracy: 0.9248 - val_loss: 0.2656 - val_accuracy: 0.9273\n",
            "Epoch 10/20\n",
            "375/375 [==============================] - 2s 4ms/step - loss: 0.2687 - accuracy: 0.9251 - val_loss: 0.2662 - val_accuracy: 0.9273\n",
            "Epoch 11/20\n",
            "375/375 [==============================] - 2s 5ms/step - loss: 0.2661 - accuracy: 0.9255 - val_loss: 0.2646 - val_accuracy: 0.9288\n",
            "Epoch 12/20\n",
            "375/375 [==============================] - 2s 4ms/step - loss: 0.2644 - accuracy: 0.9273 - val_loss: 0.2624 - val_accuracy: 0.9291\n",
            "Epoch 13/20\n",
            "375/375 [==============================] - 2s 4ms/step - loss: 0.2631 - accuracy: 0.9276 - val_loss: 0.2619 - val_accuracy: 0.9293\n",
            "Epoch 14/20\n",
            "375/375 [==============================] - 2s 5ms/step - loss: 0.2616 - accuracy: 0.9280 - val_loss: 0.2620 - val_accuracy: 0.9295\n",
            "Epoch 15/20\n",
            "375/375 [==============================] - 2s 5ms/step - loss: 0.2604 - accuracy: 0.9284 - val_loss: 0.2613 - val_accuracy: 0.9298\n",
            "Epoch 16/20\n",
            "375/375 [==============================] - 1s 4ms/step - loss: 0.2592 - accuracy: 0.9290 - val_loss: 0.2620 - val_accuracy: 0.9299\n",
            "Epoch 17/20\n",
            "375/375 [==============================] - 1s 4ms/step - loss: 0.2579 - accuracy: 0.9291 - val_loss: 0.2640 - val_accuracy: 0.9300\n",
            "Epoch 18/20\n",
            "375/375 [==============================] - 1s 4ms/step - loss: 0.2572 - accuracy: 0.9300 - val_loss: 0.2609 - val_accuracy: 0.9304\n",
            "Epoch 19/20\n",
            "375/375 [==============================] - 1s 4ms/step - loss: 0.2562 - accuracy: 0.9301 - val_loss: 0.2607 - val_accuracy: 0.9312\n",
            "Epoch 20/20\n",
            "375/375 [==============================] - 1s 3ms/step - loss: 0.2555 - accuracy: 0.9301 - val_loss: 0.2601 - val_accuracy: 0.9317\n"
          ]
        }
      ],
      "source": [
        "model = keras.Sequential([layers.Dense(10, activation=\"softmax\")]) #defining model with one layer which is simple logistic regression model\n",
        "model.compile(optimizer=\"rmsprop\",\n",
        "              loss=\"sparse_categorical_crossentropy\",\n",
        "              metrics=[\"accuracy\"])\n",
        "history_small_model = model.fit(\n",
        "    train_images, train_labels,\n",
        "    epochs=20,\n",
        "    batch_size=128,\n",
        "    validation_split=0.2)"
      ]
    },
    {
      "cell_type": "code",
      "execution_count": 8,
      "metadata": {
        "id": "BLytu4CEhHX8",
        "outputId": "337b0452-3a19-4fba-dd1f-a62a73605d55",
        "colab": {
          "base_uri": "https://localhost:8080/",
          "height": 313
        }
      },
      "outputs": [
        {
          "output_type": "execute_result",
          "data": {
            "text/plain": [
              "<matplotlib.legend.Legend at 0x7f3f224f8c90>"
            ]
          },
          "metadata": {},
          "execution_count": 8
        },
        {
          "output_type": "display_data",
          "data": {
            "text/plain": [
              "<Figure size 432x288 with 1 Axes>"
            ],
            "image/png": "[encoded data removed]"
          },
          "metadata": {
            "needs_background": "light"
          }
        }
      ],
      "source": [
        "import matplotlib.pyplot as plt\n",
        "val_loss = history_small_model.history[\"val_loss\"]\n",
        "epochs = range(1, 21)\n",
        "plt.plot(epochs, val_loss, \"b--\",\n",
        "         label=\"Validation loss\")\n",
        "plt.title(\"Effect of insufficient model capacity on validation loss\")\n",
        "plt.xlabel(\"Epochs\")\n",
        "plt.ylabel(\"Loss\")\n",
        "plt.legend()"
      ]
    },
    {
      "cell_type": "markdown",
      "source": [
        "- Valid loss is getting lower. \n",
        "- We can train the model better!"
      ],
      "metadata": {
        "id": "6q3TV2MqjU84"
      }
    },
    {
      "cell_type": "code",
      "execution_count": 9,
      "metadata": {
        "id": "hseJiHm-hHX8",
        "outputId": "656bc818-1336-4fcf-f987-d711781efbaf",
        "colab": {
          "base_uri": "https://localhost:8080/"
        }
      },
      "outputs": [
        {
          "output_type": "stream",
          "name": "stdout",
          "text": [
            "Epoch 1/20\n",
            "375/375 [==============================] - 2s 5ms/step - loss: 0.3648 - accuracy: 0.8965 - val_loss: 0.1898 - val_accuracy: 0.9450\n",
            "Epoch 2/20\n",
            "375/375 [==============================] - 2s 4ms/step - loss: 0.1611 - accuracy: 0.9532 - val_loss: 0.1404 - val_accuracy: 0.9604\n",
            "Epoch 3/20\n",
            "375/375 [==============================] - 2s 4ms/step - loss: 0.1137 - accuracy: 0.9659 - val_loss: 0.1227 - val_accuracy: 0.9642\n",
            "Epoch 4/20\n",
            "375/375 [==============================] - 2s 4ms/step - loss: 0.0875 - accuracy: 0.9743 - val_loss: 0.1009 - val_accuracy: 0.9695\n",
            "Epoch 5/20\n",
            "375/375 [==============================] - 2s 4ms/step - loss: 0.0708 - accuracy: 0.9791 - val_loss: 0.0975 - val_accuracy: 0.9718\n",
            "Epoch 6/20\n",
            "375/375 [==============================] - 2s 4ms/step - loss: 0.0578 - accuracy: 0.9826 - val_loss: 0.1057 - val_accuracy: 0.9704\n",
            "Epoch 7/20\n",
            "375/375 [==============================] - 2s 4ms/step - loss: 0.0498 - accuracy: 0.9846 - val_loss: 0.1020 - val_accuracy: 0.9735\n",
            "Epoch 8/20\n",
            "375/375 [==============================] - 2s 5ms/step - loss: 0.0414 - accuracy: 0.9870 - val_loss: 0.1096 - val_accuracy: 0.9711\n",
            "Epoch 9/20\n",
            "375/375 [==============================] - 2s 4ms/step - loss: 0.0358 - accuracy: 0.9895 - val_loss: 0.1019 - val_accuracy: 0.9728\n",
            "Epoch 10/20\n",
            "375/375 [==============================] - 2s 4ms/step - loss: 0.0295 - accuracy: 0.9910 - val_loss: 0.0997 - val_accuracy: 0.9752\n",
            "Epoch 11/20\n",
            "375/375 [==============================] - 2s 5ms/step - loss: 0.0248 - accuracy: 0.9927 - val_loss: 0.1005 - val_accuracy: 0.9768\n",
            "Epoch 12/20\n",
            "375/375 [==============================] - 2s 4ms/step - loss: 0.0209 - accuracy: 0.9937 - val_loss: 0.1093 - val_accuracy: 0.9741\n",
            "Epoch 13/20\n",
            "375/375 [==============================] - 2s 4ms/step - loss: 0.0182 - accuracy: 0.9945 - val_loss: 0.1136 - val_accuracy: 0.9747\n",
            "Epoch 14/20\n",
            "375/375 [==============================] - 2s 4ms/step - loss: 0.0153 - accuracy: 0.9951 - val_loss: 0.1284 - val_accuracy: 0.9718\n",
            "Epoch 15/20\n",
            "375/375 [==============================] - 2s 4ms/step - loss: 0.0122 - accuracy: 0.9963 - val_loss: 0.1201 - val_accuracy: 0.9737\n",
            "Epoch 16/20\n",
            "375/375 [==============================] - 2s 4ms/step - loss: 0.0114 - accuracy: 0.9966 - val_loss: 0.1273 - val_accuracy: 0.9749\n",
            "Epoch 17/20\n",
            "375/375 [==============================] - 2s 4ms/step - loss: 0.0095 - accuracy: 0.9969 - val_loss: 0.1229 - val_accuracy: 0.9775\n",
            "Epoch 18/20\n",
            "375/375 [==============================] - 2s 4ms/step - loss: 0.0075 - accuracy: 0.9976 - val_loss: 0.1348 - val_accuracy: 0.9747\n",
            "Epoch 19/20\n",
            "375/375 [==============================] - 2s 4ms/step - loss: 0.0071 - accuracy: 0.9980 - val_loss: 0.1466 - val_accuracy: 0.9731\n",
            "Epoch 20/20\n",
            "375/375 [==============================] - 2s 4ms/step - loss: 0.0063 - accuracy: 0.9980 - val_loss: 0.1491 - val_accuracy: 0.9753\n"
          ]
        }
      ],
      "source": [
        "model = keras.Sequential([\n",
        "    layers.Dense(96, activation=\"relu\"),\n",
        "    layers.Dense(96, activation=\"relu\"),\n",
        "    layers.Dense(10, activation=\"softmax\"), # increase our model capacity adding two more dense layers\n",
        "])\n",
        "model.compile(optimizer=\"rmsprop\",\n",
        "              loss=\"sparse_categorical_crossentropy\",\n",
        "              metrics=[\"accuracy\"])\n",
        "history_large_model = model.fit(\n",
        "    train_images, train_labels,\n",
        "    epochs=20,\n",
        "    batch_size=128,\n",
        "    validation_split=0.2)"
      ]
    },
    {
      "cell_type": "markdown",
      "source": [
        "- much better result"
      ],
      "metadata": {
        "id": "xKNQFfXyjpPj"
      }
    },
    {
      "cell_type": "code",
      "source": [
        "import matplotlib.pyplot as plt\n",
        "val_loss_large = history_large_model.history[\"val_loss\"]\n",
        "epochs = range(1, 21)\n",
        "plt.plot(epochs, val_loss_large, \"b--\",\n",
        "         label=\"Validation loss\")\n",
        "plt.title(\"Effect of insufficient model larger capacity on validation loss\")\n",
        "plt.xlabel(\"Epochs\")\n",
        "plt.ylabel(\"Loss\")\n",
        "plt.legend()"
      ],
      "metadata": {
        "id": "AwiViGF0jwQ2",
        "outputId": "e3905cc4-c9d5-4979-a48c-6464e5c3aa9f",
        "colab": {
          "base_uri": "https://localhost:8080/",
          "height": 313
        }
      },
      "execution_count": 10,
      "outputs": [
        {
          "output_type": "execute_result",
          "data": {
            "text/plain": [
              "<matplotlib.legend.Legend at 0x7f3f1e14c5d0>"
            ]
          },
          "metadata": {},
          "execution_count": 10
        },
        {
          "output_type": "display_data",
          "data": {
            "text/plain": [
              "<Figure size 432x288 with 1 Axes>"
            ],
            "image/png": "[encoded data removed]"
          },
          "metadata": {
            "needs_background": "light"
          }
        }
      ]
    },
    {
      "cell_type": "markdown",
      "source": [
        "- have better loss but it also overfitting"
      ],
      "metadata": {
        "id": "2xo-YswWkBoo"
      }
    },
    {
      "cell_type": "markdown",
      "metadata": {
        "id": "KwDWlciThHX8"
      },
      "source": [
        "## Improving generalization"
      ]
    },
    {
      "cell_type": "markdown",
      "metadata": {
        "id": "kiusc-EkhHX8"
      },
      "source": [
        "### Dataset curation"
      ]
    },
    {
      "cell_type": "markdown",
      "metadata": {
        "id": "0Bm8yrCrhHX9"
      },
      "source": [
        "### Feature engineering"
      ]
    },
    {
      "cell_type": "markdown",
      "metadata": {
        "id": "wNNIVMn2hHX9"
      },
      "source": [
        "### Using early stopping"
      ]
    },
    {
      "cell_type": "markdown",
      "metadata": {
        "id": "iyTptQ1yhHX9"
      },
      "source": [
        "### Regularizing your model"
      ]
    },
    {
      "cell_type": "markdown",
      "metadata": {
        "id": "fVGL-E-EhHX9"
      },
      "source": [
        "#### Reducing the network's size"
      ]
    },
    {
      "cell_type": "markdown",
      "metadata": {
        "id": "oeYSB-K-hHX9"
      },
      "source": [
        "**Original model**"
      ]
    },
    {
      "cell_type": "code",
      "execution_count": 11,
      "metadata": {
        "id": "K8e_BofFhHX9",
        "outputId": "68986e69-3c77-4889-e669-c4b09ae11973",
        "colab": {
          "base_uri": "https://localhost:8080/"
        }
      },
      "outputs": [
        {
          "output_type": "stream",
          "name": "stdout",
          "text": [
            "Downloading data from https://storage.googleapis.com/tensorflow/tf-keras-datasets/imdb.npz\n",
            "17465344/17464789 [==============================] - 0s 0us/step\n",
            "17473536/17464789 [==============================] - 0s 0us/step\n",
            "Epoch 1/20\n",
            "30/30 [==============================] - 3s 44ms/step - loss: 0.5288 - accuracy: 0.7807 - val_loss: 0.3954 - val_accuracy: 0.8661\n",
            "Epoch 2/20\n",
            "30/30 [==============================] - 1s 22ms/step - loss: 0.3170 - accuracy: 0.8979 - val_loss: 0.3082 - val_accuracy: 0.8893\n",
            "Epoch 3/20\n",
            "30/30 [==============================] - 1s 23ms/step - loss: 0.2323 - accuracy: 0.9241 - val_loss: 0.2831 - val_accuracy: 0.8881\n",
            "Epoch 4/20\n",
            "30/30 [==============================] - 1s 22ms/step - loss: 0.1836 - accuracy: 0.9395 - val_loss: 0.2943 - val_accuracy: 0.8804\n",
            "Epoch 5/20\n",
            "30/30 [==============================] - 1s 22ms/step - loss: 0.1478 - accuracy: 0.9532 - val_loss: 0.3334 - val_accuracy: 0.8655\n",
            "Epoch 6/20\n",
            "30/30 [==============================] - 1s 22ms/step - loss: 0.1280 - accuracy: 0.9585 - val_loss: 0.3105 - val_accuracy: 0.8803\n",
            "Epoch 7/20\n",
            "30/30 [==============================] - 1s 22ms/step - loss: 0.1042 - accuracy: 0.9704 - val_loss: 0.3201 - val_accuracy: 0.8811\n",
            "Epoch 8/20\n",
            "30/30 [==============================] - 1s 22ms/step - loss: 0.0895 - accuracy: 0.9736 - val_loss: 0.3239 - val_accuracy: 0.8845\n",
            "Epoch 9/20\n",
            "30/30 [==============================] - 1s 22ms/step - loss: 0.0756 - accuracy: 0.9785 - val_loss: 0.3436 - val_accuracy: 0.8823\n",
            "Epoch 10/20\n",
            "30/30 [==============================] - 1s 22ms/step - loss: 0.0634 - accuracy: 0.9831 - val_loss: 0.3689 - val_accuracy: 0.8810\n",
            "Epoch 11/20\n",
            "30/30 [==============================] - 1s 25ms/step - loss: 0.0541 - accuracy: 0.9865 - val_loss: 0.3965 - val_accuracy: 0.8781\n",
            "Epoch 12/20\n",
            "30/30 [==============================] - 1s 25ms/step - loss: 0.0444 - accuracy: 0.9885 - val_loss: 0.4242 - val_accuracy: 0.8761\n",
            "Epoch 13/20\n",
            "30/30 [==============================] - 1s 23ms/step - loss: 0.0360 - accuracy: 0.9915 - val_loss: 0.4611 - val_accuracy: 0.8746\n",
            "Epoch 14/20\n",
            "30/30 [==============================] - 1s 22ms/step - loss: 0.0306 - accuracy: 0.9935 - val_loss: 0.4847 - val_accuracy: 0.8735\n",
            "Epoch 15/20\n",
            "30/30 [==============================] - 1s 22ms/step - loss: 0.0246 - accuracy: 0.9954 - val_loss: 0.5291 - val_accuracy: 0.8700\n",
            "Epoch 16/20\n",
            "30/30 [==============================] - 1s 22ms/step - loss: 0.0206 - accuracy: 0.9961 - val_loss: 0.5563 - val_accuracy: 0.8685\n",
            "Epoch 17/20\n",
            "30/30 [==============================] - 1s 22ms/step - loss: 0.0178 - accuracy: 0.9968 - val_loss: 0.5903 - val_accuracy: 0.8675\n",
            "Epoch 18/20\n",
            "30/30 [==============================] - 1s 22ms/step - loss: 0.0138 - accuracy: 0.9979 - val_loss: 0.6382 - val_accuracy: 0.8653\n",
            "Epoch 19/20\n",
            "30/30 [==============================] - 1s 22ms/step - loss: 0.0110 - accuracy: 0.9985 - val_loss: 0.6602 - val_accuracy: 0.8653\n",
            "Epoch 20/20\n",
            "30/30 [==============================] - 1s 25ms/step - loss: 0.0087 - accuracy: 0.9988 - val_loss: 0.6975 - val_accuracy: 0.8637\n"
          ]
        }
      ],
      "source": [
        "from tensorflow.keras.datasets import imdb\n",
        "(train_data, train_labels), _ = imdb.load_data(num_words=10000)\n",
        "\n",
        "def vectorize_sequences(sequences, dimension=10000):\n",
        "    results = np.zeros((len(sequences), dimension))\n",
        "    for i, sequence in enumerate(sequences):\n",
        "        results[i, sequence] = 1.\n",
        "    return results\n",
        "train_data = vectorize_sequences(train_data)\n",
        "\n",
        "model = keras.Sequential([\n",
        "    layers.Dense(16, activation=\"relu\"),\n",
        "    layers.Dense(16, activation=\"relu\"),\n",
        "    layers.Dense(1, activation=\"sigmoid\")\n",
        "])\n",
        "model.compile(optimizer=\"rmsprop\",\n",
        "              loss=\"binary_crossentropy\",\n",
        "              metrics=[\"accuracy\"])\n",
        "history_original = model.fit(train_data, train_labels,\n",
        "                             epochs=20, batch_size=512, validation_split=0.4)"
      ]
    },
    {
      "cell_type": "code",
      "source": [
        "import matplotlib.pyplot as plt\n",
        "val_loss_original = history_original.history[\"val_loss\"]\n",
        "epochs = range(1, 21)\n",
        "plt.plot(epochs, val_loss_original , \"b--\",\n",
        "         label=\"Validation loss\")\n",
        "plt.title(\"Effect of insufficient model original capacity on validation loss\")\n",
        "plt.xlabel(\"Epochs\")\n",
        "plt.ylabel(\"Loss\")\n",
        "plt.legend()"
      ],
      "metadata": {
        "id": "fM4OrdUmkvlO",
        "outputId": "40bcc20f-2ef9-462a-854a-6209bdb0029d",
        "colab": {
          "base_uri": "https://localhost:8080/",
          "height": 313
        }
      },
      "execution_count": 13,
      "outputs": [
        {
          "output_type": "execute_result",
          "data": {
            "text/plain": [
              "<matplotlib.legend.Legend at 0x7f3f168a0410>"
            ]
          },
          "metadata": {},
          "execution_count": 13
        },
        {
          "output_type": "display_data",
          "data": {
            "text/plain": [
              "<Figure size 432x288 with 1 Axes>"
            ],
            "image/png": "[encoded data removed]"
          },
          "metadata": {
            "needs_background": "light"
          }
        }
      ]
    },
    {
      "cell_type": "markdown",
      "metadata": {
        "id": "l95JDblYhHX-"
      },
      "source": [
        "**Version of the model with lower capacity**"
      ]
    },
    {
      "cell_type": "code",
      "execution_count": 12,
      "metadata": {
        "id": "flH6isbshHX-",
        "outputId": "b0ba7ca0-dd78-4b69-ed5d-6d1c90e8f15e",
        "colab": {
          "base_uri": "https://localhost:8080/"
        }
      },
      "outputs": [
        {
          "output_type": "stream",
          "name": "stdout",
          "text": [
            "Epoch 1/20\n",
            "30/30 [==============================] - 2s 55ms/step - loss: 0.6335 - accuracy: 0.6173 - val_loss: 0.5826 - val_accuracy: 0.7375\n",
            "Epoch 2/20\n",
            "30/30 [==============================] - 1s 34ms/step - loss: 0.5401 - accuracy: 0.7779 - val_loss: 0.5300 - val_accuracy: 0.8196\n",
            "Epoch 3/20\n",
            "30/30 [==============================] - 1s 29ms/step - loss: 0.4864 - accuracy: 0.8427 - val_loss: 0.5003 - val_accuracy: 0.8138\n",
            "Epoch 4/20\n",
            "30/30 [==============================] - 1s 22ms/step - loss: 0.4488 - accuracy: 0.8811 - val_loss: 0.4860 - val_accuracy: 0.8261\n",
            "Epoch 5/20\n",
            "30/30 [==============================] - 1s 22ms/step - loss: 0.4191 - accuracy: 0.9074 - val_loss: 0.4681 - val_accuracy: 0.8585\n",
            "Epoch 6/20\n",
            "30/30 [==============================] - 1s 25ms/step - loss: 0.3944 - accuracy: 0.9239 - val_loss: 0.4551 - val_accuracy: 0.8762\n",
            "Epoch 7/20\n",
            "30/30 [==============================] - 1s 22ms/step - loss: 0.3720 - accuracy: 0.9387 - val_loss: 0.4622 - val_accuracy: 0.8597\n",
            "Epoch 8/20\n",
            "30/30 [==============================] - 1s 23ms/step - loss: 0.3519 - accuracy: 0.9490 - val_loss: 0.4591 - val_accuracy: 0.8661\n",
            "Epoch 9/20\n",
            "30/30 [==============================] - 1s 26ms/step - loss: 0.3327 - accuracy: 0.9578 - val_loss: 0.4580 - val_accuracy: 0.8688\n",
            "Epoch 10/20\n",
            "30/30 [==============================] - 1s 26ms/step - loss: 0.3155 - accuracy: 0.9651 - val_loss: 0.4608 - val_accuracy: 0.8682\n",
            "Epoch 11/20\n",
            "30/30 [==============================] - 1s 22ms/step - loss: 0.2995 - accuracy: 0.9706 - val_loss: 0.4575 - val_accuracy: 0.8743\n",
            "Epoch 12/20\n",
            "30/30 [==============================] - 1s 26ms/step - loss: 0.2839 - accuracy: 0.9765 - val_loss: 0.4826 - val_accuracy: 0.8652\n",
            "Epoch 13/20\n",
            "30/30 [==============================] - 1s 26ms/step - loss: 0.2686 - accuracy: 0.9797 - val_loss: 0.4568 - val_accuracy: 0.8750\n",
            "Epoch 14/20\n",
            "30/30 [==============================] - 1s 26ms/step - loss: 0.2545 - accuracy: 0.9833 - val_loss: 0.5112 - val_accuracy: 0.8642\n",
            "Epoch 15/20\n",
            "30/30 [==============================] - 1s 23ms/step - loss: 0.2415 - accuracy: 0.9851 - val_loss: 0.5159 - val_accuracy: 0.8669\n",
            "Epoch 16/20\n",
            "30/30 [==============================] - 1s 23ms/step - loss: 0.2282 - accuracy: 0.9879 - val_loss: 0.5407 - val_accuracy: 0.8636\n",
            "Epoch 17/20\n",
            "30/30 [==============================] - 1s 22ms/step - loss: 0.2169 - accuracy: 0.9891 - val_loss: 0.5726 - val_accuracy: 0.8610\n",
            "Epoch 18/20\n",
            "30/30 [==============================] - 1s 24ms/step - loss: 0.2049 - accuracy: 0.9900 - val_loss: 0.5732 - val_accuracy: 0.8626\n",
            "Epoch 19/20\n",
            "30/30 [==============================] - 1s 22ms/step - loss: 0.1940 - accuracy: 0.9909 - val_loss: 0.6298 - val_accuracy: 0.8563\n",
            "Epoch 20/20\n",
            "30/30 [==============================] - 1s 22ms/step - loss: 0.1825 - accuracy: 0.9919 - val_loss: 0.5619 - val_accuracy: 0.8684\n"
          ]
        }
      ],
      "source": [
        "model = keras.Sequential([\n",
        "    layers.Dense(4, activation=\"relu\"),\n",
        "    layers.Dense(4, activation=\"relu\"),\n",
        "    layers.Dense(1, activation=\"sigmoid\")\n",
        "])\n",
        "model.compile(optimizer=\"rmsprop\",\n",
        "              loss=\"binary_crossentropy\",\n",
        "              metrics=[\"accuracy\"])\n",
        "history_smaller_model = model.fit(\n",
        "    train_data, train_labels,\n",
        "    epochs=20, batch_size=512, validation_split=0.4)"
      ]
    },
    {
      "cell_type": "code",
      "source": [
        "import matplotlib.pyplot as plt\n",
        "val_loss_original = history_original.history[\"val_loss\"]\n",
        "val_loss_smaller = history_smaller_model.history[\"val_loss\"]\n",
        "epochs = range(1, 21)\n",
        "plt.plot(epochs, val_loss_original , \"b--\",\n",
        "         label=\"Validation loss of original model\")\n",
        "plt.plot(epochs, val_loss_smaller, \"b-\",\n",
        "         label=\"Validation loss of smaller model\")\n",
        "plt.title(\"Effect of smaller model capacity on validation loss\")\n",
        "plt.xlabel(\"Epochs\")\n",
        "plt.ylabel(\"Loss\")\n",
        "plt.legend()"
      ],
      "metadata": {
        "id": "pZcH6Azslz0O",
        "outputId": "a5f40320-33e1-4537-cea7-2c64fdf7d2f3",
        "colab": {
          "base_uri": "https://localhost:8080/",
          "height": 313
        }
      },
      "execution_count": 18,
      "outputs": [
        {
          "output_type": "execute_result",
          "data": {
            "text/plain": [
              "<matplotlib.legend.Legend at 0x7f3f12829b90>"
            ]
          },
          "metadata": {},
          "execution_count": 18
        },
        {
          "output_type": "display_data",
          "data": {
            "text/plain": [
              "<Figure size 432x288 with 1 Axes>"
            ],
            "image/png": "[encoded data removed]"
          },
          "metadata": {
            "needs_background": "light"
          }
        }
      ]
    },
    {
      "cell_type": "markdown",
      "source": [
        "- The valid loss of smaller model do not overfit but performs not very good."
      ],
      "metadata": {
        "id": "lrC-yPUimJ70"
      }
    },
    {
      "cell_type": "markdown",
      "metadata": {
        "id": "aTOIXxK-hHX-"
      },
      "source": [
        "**Version of the model with higher capacity**"
      ]
    },
    {
      "cell_type": "code",
      "execution_count": 15,
      "metadata": {
        "id": "1FwsrxeqhHX-",
        "outputId": "647aadb5-8cda-4f1d-c2b5-14df76887192",
        "colab": {
          "base_uri": "https://localhost:8080/"
        }
      },
      "outputs": [
        {
          "output_type": "stream",
          "name": "stdout",
          "text": [
            "Epoch 1/20\n",
            "30/30 [==============================] - 2s 48ms/step - loss: 0.5507 - accuracy: 0.7373 - val_loss: 0.3064 - val_accuracy: 0.8807\n",
            "Epoch 2/20\n",
            "30/30 [==============================] - 1s 32ms/step - loss: 0.2631 - accuracy: 0.8966 - val_loss: 0.5444 - val_accuracy: 0.7819\n",
            "Epoch 3/20\n",
            "30/30 [==============================] - 1s 32ms/step - loss: 0.1578 - accuracy: 0.9402 - val_loss: 0.2876 - val_accuracy: 0.8899\n",
            "Epoch 4/20\n",
            "30/30 [==============================] - 1s 31ms/step - loss: 0.0866 - accuracy: 0.9705 - val_loss: 0.3388 - val_accuracy: 0.8872\n",
            "Epoch 5/20\n",
            "30/30 [==============================] - 1s 31ms/step - loss: 0.1198 - accuracy: 0.9735 - val_loss: 0.3331 - val_accuracy: 0.8872\n",
            "Epoch 6/20\n",
            "30/30 [==============================] - 1s 33ms/step - loss: 0.0060 - accuracy: 0.9993 - val_loss: 0.4794 - val_accuracy: 0.8882\n",
            "Epoch 7/20\n",
            "30/30 [==============================] - 1s 32ms/step - loss: 8.1812e-04 - accuracy: 0.9999 - val_loss: 0.5928 - val_accuracy: 0.8881\n",
            "Epoch 8/20\n",
            "30/30 [==============================] - 1s 32ms/step - loss: 1.1070e-04 - accuracy: 1.0000 - val_loss: 0.7126 - val_accuracy: 0.8867\n",
            "Epoch 9/20\n",
            "30/30 [==============================] - 1s 31ms/step - loss: 1.8713e-05 - accuracy: 1.0000 - val_loss: 0.8229 - val_accuracy: 0.8860\n",
            "Epoch 10/20\n",
            "30/30 [==============================] - 1s 30ms/step - loss: 0.1695 - accuracy: 0.9859 - val_loss: 0.7604 - val_accuracy: 0.8818\n",
            "Epoch 11/20\n",
            "30/30 [==============================] - 1s 30ms/step - loss: 9.7877e-05 - accuracy: 1.0000 - val_loss: 0.7528 - val_accuracy: 0.8814\n",
            "Epoch 12/20\n",
            "30/30 [==============================] - 1s 29ms/step - loss: 1.8391e-05 - accuracy: 1.0000 - val_loss: 0.7917 - val_accuracy: 0.8829\n",
            "Epoch 13/20\n",
            "30/30 [==============================] - 1s 30ms/step - loss: 1.0469e-05 - accuracy: 1.0000 - val_loss: 0.8200 - val_accuracy: 0.8833\n",
            "Epoch 14/20\n",
            "30/30 [==============================] - 1s 30ms/step - loss: 6.3227e-06 - accuracy: 1.0000 - val_loss: 0.8531 - val_accuracy: 0.8835\n",
            "Epoch 15/20\n",
            "30/30 [==============================] - 1s 30ms/step - loss: 3.4717e-06 - accuracy: 1.0000 - val_loss: 0.9043 - val_accuracy: 0.8832\n",
            "Epoch 16/20\n",
            "30/30 [==============================] - 1s 30ms/step - loss: 1.5607e-06 - accuracy: 1.0000 - val_loss: 0.9690 - val_accuracy: 0.8837\n",
            "Epoch 17/20\n",
            "30/30 [==============================] - 1s 31ms/step - loss: 6.0781e-07 - accuracy: 1.0000 - val_loss: 1.0539 - val_accuracy: 0.8836\n",
            "Epoch 18/20\n",
            "30/30 [==============================] - 1s 29ms/step - loss: 2.3052e-07 - accuracy: 1.0000 - val_loss: 1.1145 - val_accuracy: 0.8834\n",
            "Epoch 19/20\n",
            "30/30 [==============================] - 1s 31ms/step - loss: 9.2788e-08 - accuracy: 1.0000 - val_loss: 1.1807 - val_accuracy: 0.8834\n",
            "Epoch 20/20\n",
            "30/30 [==============================] - 1s 30ms/step - loss: 4.3079e-08 - accuracy: 1.0000 - val_loss: 1.2270 - val_accuracy: 0.8834\n"
          ]
        }
      ],
      "source": [
        "model = keras.Sequential([\n",
        "    layers.Dense(512, activation=\"relu\"),\n",
        "    layers.Dense(512, activation=\"relu\"),\n",
        "    layers.Dense(1, activation=\"sigmoid\")\n",
        "])\n",
        "model.compile(optimizer=\"rmsprop\",\n",
        "              loss=\"binary_crossentropy\",\n",
        "              metrics=[\"accuracy\"])\n",
        "history_larger_model = model.fit(\n",
        "    train_data, train_labels,\n",
        "    epochs=20, batch_size=512, validation_split=0.4)"
      ]
    },
    {
      "cell_type": "code",
      "source": [
        "import matplotlib.pyplot as plt\n",
        "val_loss_original = history_original.history[\"val_loss\"]\n",
        "val_loss_larger = history_larger_model.history[\"val_loss\"]\n",
        "epochs = range(1, 21)\n",
        "plt.plot(epochs, val_loss_original , \"b--\",\n",
        "         label=\"Validation loss of original model\")\n",
        "plt.plot(epochs, val_loss_larger, \"b-\",\n",
        "         label=\"Validation loss of larger model\")\n",
        "plt.title(\"Effect of larger model capacity on validation loss\")\n",
        "plt.xlabel(\"Epochs\")\n",
        "plt.ylabel(\"Loss\")\n",
        "plt.legend()"
      ],
      "metadata": {
        "id": "0sn-Og1klOZW",
        "outputId": "872b3a62-fb32-44f3-f685-61f341d5772e",
        "colab": {
          "base_uri": "https://localhost:8080/",
          "height": 313
        }
      },
      "execution_count": 19,
      "outputs": [
        {
          "output_type": "execute_result",
          "data": {
            "text/plain": [
              "<matplotlib.legend.Legend at 0x7f3f175fd350>"
            ]
          },
          "metadata": {},
          "execution_count": 19
        },
        {
          "output_type": "display_data",
          "data": {
            "text/plain": [
              "<Figure size 432x288 with 1 Axes>"
            ],
            "image/png": "[encoded data removed]"
          },
          "metadata": {
            "needs_background": "light"
          }
        }
      ]
    },
    {
      "cell_type": "markdown",
      "source": [
        "- Valid loss of larger model overfits very quickly.\n",
        "- The original model is also overfitting after 5 epochs so we need to consider regularization."
      ],
      "metadata": {
        "id": "59qLtI4Amna0"
      }
    },
    {
      "cell_type": "markdown",
      "metadata": {
        "id": "TlhD2OkjhHX-"
      },
      "source": [
        "#### Adding weight regularization"
      ]
    },
    {
      "cell_type": "markdown",
      "metadata": {
        "id": "N44fBMaGhHX_"
      },
      "source": [
        "**Adding L2 weight regularization to the model**"
      ]
    },
    {
      "cell_type": "code",
      "execution_count": 20,
      "metadata": {
        "id": "9E-T79bBhHX_",
        "outputId": "eb756767-50cc-4834-dedd-c1ab8735dcad",
        "colab": {
          "base_uri": "https://localhost:8080/"
        }
      },
      "outputs": [
        {
          "output_type": "stream",
          "name": "stdout",
          "text": [
            "Epoch 1/20\n",
            "30/30 [==============================] - 2s 37ms/step - loss: 0.5941 - accuracy: 0.7897 - val_loss: 0.4579 - val_accuracy: 0.8734\n",
            "Epoch 2/20\n",
            "30/30 [==============================] - 1s 22ms/step - loss: 0.3925 - accuracy: 0.8971 - val_loss: 0.3857 - val_accuracy: 0.8846\n",
            "Epoch 3/20\n",
            "30/30 [==============================] - 1s 22ms/step - loss: 0.3274 - accuracy: 0.9168 - val_loss: 0.3617 - val_accuracy: 0.8889\n",
            "Epoch 4/20\n",
            "30/30 [==============================] - 1s 21ms/step - loss: 0.2959 - accuracy: 0.9281 - val_loss: 0.3546 - val_accuracy: 0.8892\n",
            "Epoch 5/20\n",
            "30/30 [==============================] - 1s 21ms/step - loss: 0.2746 - accuracy: 0.9336 - val_loss: 0.3985 - val_accuracy: 0.8666\n",
            "Epoch 6/20\n",
            "30/30 [==============================] - 1s 24ms/step - loss: 0.2594 - accuracy: 0.9395 - val_loss: 0.3994 - val_accuracy: 0.8678\n",
            "Epoch 7/20\n",
            "30/30 [==============================] - 1s 25ms/step - loss: 0.2552 - accuracy: 0.9381 - val_loss: 0.3588 - val_accuracy: 0.8842\n",
            "Epoch 8/20\n",
            "30/30 [==============================] - 1s 24ms/step - loss: 0.2461 - accuracy: 0.9441 - val_loss: 0.3649 - val_accuracy: 0.8829\n",
            "Epoch 9/20\n",
            "30/30 [==============================] - 1s 21ms/step - loss: 0.2384 - accuracy: 0.9457 - val_loss: 0.3675 - val_accuracy: 0.8818\n",
            "Epoch 10/20\n",
            "30/30 [==============================] - 1s 21ms/step - loss: 0.2300 - accuracy: 0.9491 - val_loss: 0.3901 - val_accuracy: 0.8769\n",
            "Epoch 11/20\n",
            "30/30 [==============================] - 1s 21ms/step - loss: 0.2245 - accuracy: 0.9514 - val_loss: 0.3777 - val_accuracy: 0.8799\n",
            "Epoch 12/20\n",
            "30/30 [==============================] - 1s 21ms/step - loss: 0.2188 - accuracy: 0.9545 - val_loss: 0.3796 - val_accuracy: 0.8796\n",
            "Epoch 13/20\n",
            "30/30 [==============================] - 1s 22ms/step - loss: 0.2159 - accuracy: 0.9553 - val_loss: 0.4621 - val_accuracy: 0.8538\n",
            "Epoch 14/20\n",
            "30/30 [==============================] - 1s 21ms/step - loss: 0.2162 - accuracy: 0.9529 - val_loss: 0.3903 - val_accuracy: 0.8774\n",
            "Epoch 15/20\n",
            "30/30 [==============================] - 1s 21ms/step - loss: 0.2079 - accuracy: 0.9585 - val_loss: 0.3918 - val_accuracy: 0.8800\n",
            "Epoch 16/20\n",
            "30/30 [==============================] - 1s 21ms/step - loss: 0.2118 - accuracy: 0.9550 - val_loss: 0.3959 - val_accuracy: 0.8780\n",
            "Epoch 17/20\n",
            "30/30 [==============================] - 1s 21ms/step - loss: 0.2043 - accuracy: 0.9600 - val_loss: 0.4258 - val_accuracy: 0.8696\n",
            "Epoch 18/20\n",
            "30/30 [==============================] - 1s 21ms/step - loss: 0.2027 - accuracy: 0.9591 - val_loss: 0.4673 - val_accuracy: 0.8576\n",
            "Epoch 19/20\n",
            "30/30 [==============================] - 1s 25ms/step - loss: 0.1971 - accuracy: 0.9627 - val_loss: 0.4174 - val_accuracy: 0.8746\n",
            "Epoch 20/20\n",
            "30/30 [==============================] - 1s 24ms/step - loss: 0.2005 - accuracy: 0.9597 - val_loss: 0.4120 - val_accuracy: 0.8755\n"
          ]
        }
      ],
      "source": [
        "from tensorflow.keras import regularizers\n",
        "model = keras.Sequential([\n",
        "    layers.Dense(16,\n",
        "                 kernel_regularizer=regularizers.l2(0.002),\n",
        "                 activation=\"relu\"),\n",
        "    layers.Dense(16,\n",
        "                 kernel_regularizer=regularizers.l2(0.002),\n",
        "                 activation=\"relu\"),\n",
        "    layers.Dense(1, activation=\"sigmoid\")\n",
        "])\n",
        "model.compile(optimizer=\"rmsprop\",\n",
        "              loss=\"binary_crossentropy\",\n",
        "              metrics=[\"accuracy\"])\n",
        "history_l2_reg = model.fit(\n",
        "    train_data, train_labels,\n",
        "    epochs=20, batch_size=512, validation_split=0.4)"
      ]
    },
    {
      "cell_type": "code",
      "source": [
        "\n",
        "import matplotlib.pyplot as plt\n",
        "val_loss_original = history_original.history[\"val_loss\"]\n",
        "val_loss_l2_reg = history_l2_reg.history[\"val_loss\"]\n",
        "epochs = range(1, 21)\n",
        "plt.plot(epochs, val_loss_original , \"b--\",\n",
        "         label=\"Validation loss of original model\")\n",
        "plt.plot(epochs, val_loss_l2_reg, \"b-\",\n",
        "         label=\"Validation loss of L2 reg model\")\n",
        "plt.title(\"Effect of l2 reg model on validation loss\")\n",
        "plt.xlabel(\"Epochs\")\n",
        "plt.ylabel(\"Loss\")\n",
        "plt.legend()\n"
      ],
      "metadata": {
        "id": "uxkp9K_8nNO_",
        "outputId": "9169cb4f-3f1a-49cd-ba79-d63f114b6e91",
        "colab": {
          "base_uri": "https://localhost:8080/",
          "height": 313
        }
      },
      "execution_count": 23,
      "outputs": [
        {
          "output_type": "execute_result",
          "data": {
            "text/plain": [
              "<matplotlib.legend.Legend at 0x7f3f18502910>"
            ]
          },
          "metadata": {},
          "execution_count": 23
        },
        {
          "output_type": "display_data",
          "data": {
            "text/plain": [
              "<Figure size 432x288 with 1 Axes>"
            ],
            "image/png": "[encoded data removed]"
          },
          "metadata": {
            "needs_background": "light"
          }
        }
      ]
    },
    {
      "cell_type": "markdown",
      "metadata": {
        "id": "z9pKThSihHX_"
      },
      "source": [
        "**Different weight regularizers available in Keras**"
      ]
    },
    {
      "cell_type": "code",
      "execution_count": null,
      "metadata": {
        "id": "t8tpA8DLhHX_"
      },
      "outputs": [],
      "source": [
        "from tensorflow.keras import regularizers\n",
        "regularizers.l1(0.001)\n",
        "regularizers.l1_l2(l1=0.001, l2=0.001)"
      ]
    },
    {
      "cell_type": "markdown",
      "metadata": {
        "id": "UkGHooL8hHYA"
      },
      "source": [
        "#### Adding dropout"
      ]
    },
    {
      "cell_type": "markdown",
      "metadata": {
        "id": "kzRXg5r7hHYA"
      },
      "source": [
        "**Adding dropout to the IMDB model**"
      ]
    },
    {
      "cell_type": "code",
      "execution_count": 21,
      "metadata": {
        "id": "FYapxHX7hHYA",
        "outputId": "02ed4d12-d4a9-4407-ca37-10539fe770a9",
        "colab": {
          "base_uri": "https://localhost:8080/"
        }
      },
      "outputs": [
        {
          "output_type": "stream",
          "name": "stdout",
          "text": [
            "Epoch 1/20\n",
            "30/30 [==============================] - 2s 40ms/step - loss: 0.6411 - accuracy: 0.6233 - val_loss: 0.5314 - val_accuracy: 0.8483\n",
            "Epoch 2/20\n",
            "30/30 [==============================] - 1s 25ms/step - loss: 0.5120 - accuracy: 0.7614 - val_loss: 0.3858 - val_accuracy: 0.8750\n",
            "Epoch 3/20\n",
            "30/30 [==============================] - 1s 21ms/step - loss: 0.4167 - accuracy: 0.8301 - val_loss: 0.3266 - val_accuracy: 0.8828\n",
            "Epoch 4/20\n",
            "30/30 [==============================] - 1s 21ms/step - loss: 0.3566 - accuracy: 0.8609 - val_loss: 0.2961 - val_accuracy: 0.8843\n",
            "Epoch 5/20\n",
            "30/30 [==============================] - 1s 25ms/step - loss: 0.3079 - accuracy: 0.8857 - val_loss: 0.2836 - val_accuracy: 0.8868\n",
            "Epoch 6/20\n",
            "30/30 [==============================] - 1s 21ms/step - loss: 0.2669 - accuracy: 0.9055 - val_loss: 0.2809 - val_accuracy: 0.8909\n",
            "Epoch 7/20\n",
            "30/30 [==============================] - 1s 22ms/step - loss: 0.2322 - accuracy: 0.9205 - val_loss: 0.2901 - val_accuracy: 0.8867\n",
            "Epoch 8/20\n",
            "30/30 [==============================] - 1s 22ms/step - loss: 0.2079 - accuracy: 0.9289 - val_loss: 0.3028 - val_accuracy: 0.8891\n",
            "Epoch 9/20\n",
            "30/30 [==============================] - 1s 23ms/step - loss: 0.1861 - accuracy: 0.9361 - val_loss: 0.3059 - val_accuracy: 0.8925\n",
            "Epoch 10/20\n",
            "30/30 [==============================] - 1s 22ms/step - loss: 0.1609 - accuracy: 0.9453 - val_loss: 0.3209 - val_accuracy: 0.8894\n",
            "Epoch 11/20\n",
            "30/30 [==============================] - 1s 25ms/step - loss: 0.1501 - accuracy: 0.9509 - val_loss: 0.3499 - val_accuracy: 0.8894\n",
            "Epoch 12/20\n",
            "30/30 [==============================] - 1s 22ms/step - loss: 0.1327 - accuracy: 0.9556 - val_loss: 0.3688 - val_accuracy: 0.8885\n",
            "Epoch 13/20\n",
            "30/30 [==============================] - 1s 22ms/step - loss: 0.1215 - accuracy: 0.9595 - val_loss: 0.4035 - val_accuracy: 0.8878\n",
            "Epoch 14/20\n",
            "30/30 [==============================] - 1s 22ms/step - loss: 0.1170 - accuracy: 0.9605 - val_loss: 0.4039 - val_accuracy: 0.8854\n",
            "Epoch 15/20\n",
            "30/30 [==============================] - 1s 22ms/step - loss: 0.1018 - accuracy: 0.9671 - val_loss: 0.4307 - val_accuracy: 0.8858\n",
            "Epoch 16/20\n",
            "30/30 [==============================] - 1s 22ms/step - loss: 0.0970 - accuracy: 0.9663 - val_loss: 0.4554 - val_accuracy: 0.8835\n",
            "Epoch 17/20\n",
            "30/30 [==============================] - 1s 25ms/step - loss: 0.0913 - accuracy: 0.9709 - val_loss: 0.5277 - val_accuracy: 0.8839\n",
            "Epoch 18/20\n",
            "30/30 [==============================] - 1s 22ms/step - loss: 0.0852 - accuracy: 0.9703 - val_loss: 0.5263 - val_accuracy: 0.8840\n",
            "Epoch 19/20\n",
            "30/30 [==============================] - 1s 22ms/step - loss: 0.0841 - accuracy: 0.9720 - val_loss: 0.5840 - val_accuracy: 0.8832\n",
            "Epoch 20/20\n",
            "30/30 [==============================] - 1s 21ms/step - loss: 0.0806 - accuracy: 0.9725 - val_loss: 0.5613 - val_accuracy: 0.8847\n"
          ]
        }
      ],
      "source": [
        "model = keras.Sequential([\n",
        "    layers.Dense(16, activation=\"relu\"),\n",
        "    layers.Dropout(0.5),\n",
        "    layers.Dense(16, activation=\"relu\"),\n",
        "    layers.Dropout(0.5),\n",
        "    layers.Dense(1, activation=\"sigmoid\")\n",
        "])\n",
        "model.compile(optimizer=\"rmsprop\",\n",
        "              loss=\"binary_crossentropy\",\n",
        "              metrics=[\"accuracy\"])\n",
        "history_dropout = model.fit(\n",
        "    train_data, train_labels,\n",
        "    epochs=20, batch_size=512, validation_split=0.4)"
      ]
    },
    {
      "cell_type": "code",
      "source": [
        "import matplotlib.pyplot as plt\n",
        "val_loss_original = history_original.history[\"val_loss\"]\n",
        "val_loss_dropout = history_dropout.history[\"val_loss\"]\n",
        "epochs = range(1, 21)\n",
        "plt.plot(epochs, val_loss_original , \"b--\",\n",
        "         label=\"Validation loss of original model\")\n",
        "plt.plot(epochs, val_loss_dropout, \"b-\",\n",
        "         label=\"Validation loss of dropout model\")\n",
        "plt.title(\"Effect of dropout model on validation loss\")\n",
        "plt.xlabel(\"Epochs\")\n",
        "plt.ylabel(\"Loss\")\n",
        "plt.legend()\n"
      ],
      "metadata": {
        "id": "zpaUHUrkoKt0",
        "outputId": "e32fb3df-ebe0-4296-e4e2-7be570a8edcb",
        "colab": {
          "base_uri": "https://localhost:8080/",
          "height": 313
        }
      },
      "execution_count": 24,
      "outputs": [
        {
          "output_type": "execute_result",
          "data": {
            "text/plain": [
              "<matplotlib.legend.Legend at 0x7f3f18253c90>"
            ]
          },
          "metadata": {},
          "execution_count": 24
        },
        {
          "output_type": "display_data",
          "data": {
            "text/plain": [
              "<Figure size 432x288 with 1 Axes>"
            ],
            "image/png": "[encoded data removed]"
          },
          "metadata": {
            "needs_background": "light"
          }
        }
      ]
    },
    {
      "cell_type": "markdown",
      "metadata": {
        "id": "n4a3_E-shHYA"
      },
      "source": [
        "## Summary"
      ]
    }
  ],
  "metadata": {
    "colab": {
      "collapsed_sections": [],
      "name": "chapter05_fundamentals-of-ml.i",
      "provenance": []
    },
    "kernelspec": {
      "display_name": "Python 3",
      "language": "python",
      "name": "python3"
    },
    "language_info": {
      "codemirror_mode": {
        "name": "ipython",
        "version": 3
      },
      "file_extension": ".py",
      "mimetype": "text/x-python",
      "name": "python",
      "nbconvert_exporter": "python",
      "pygments_lexer": "ipython3",
      "version": "3.7.0"
    },
    "accelerator": "GPU"
  },
  "nbformat": 4,
  "nbformat_minor": 0
}